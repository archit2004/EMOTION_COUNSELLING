{
 "cells": [
  {
   "cell_type": "code",
   "execution_count": 1,
   "metadata": {},
   "outputs": [
    {
     "ename": "ModuleNotFoundError",
     "evalue": "No module named 'cv2'",
     "output_type": "error",
     "traceback": [
      "\u001b[1;31m---------------------------------------------------------------------------\u001b[0m",
      "\u001b[1;31mModuleNotFoundError\u001b[0m                       Traceback (most recent call last)",
      "Cell \u001b[1;32mIn[1], line 29\u001b[0m\n\u001b[0;32m     25\u001b[0m \u001b[38;5;28;01mimport\u001b[39;00m\u001b[38;5;250m \u001b[39m\u001b[38;5;21;01mjson\u001b[39;00m\n\u001b[0;32m     27\u001b[0m \u001b[38;5;28;01mfrom\u001b[39;00m\u001b[38;5;250m \u001b[39m\u001b[38;5;21;01msklearn\u001b[39;00m\u001b[38;5;21;01m.\u001b[39;00m\u001b[38;5;21;01mmodel_selection\u001b[39;00m\u001b[38;5;250m \u001b[39m\u001b[38;5;28;01mimport\u001b[39;00m train_test_split\n\u001b[1;32m---> 29\u001b[0m \u001b[38;5;28;01mfrom\u001b[39;00m\u001b[38;5;250m \u001b[39m\u001b[38;5;21;01mutils\u001b[39;00m\u001b[38;5;250m \u001b[39m\u001b[38;5;28;01mimport\u001b[39;00m \u001b[38;5;241m*\u001b[39m\n\u001b[0;32m     31\u001b[0m \u001b[38;5;28;01mimport\u001b[39;00m\u001b[38;5;250m \u001b[39m\u001b[38;5;21;01mnumpy\u001b[39;00m\u001b[38;5;250m \u001b[39m\u001b[38;5;28;01mas\u001b[39;00m\u001b[38;5;250m \u001b[39m\u001b[38;5;21;01mnp\u001b[39;00m\n",
      "File \u001b[1;32mc:\\Users\\Dell\\OneDrive - vit.ac.in\\Documents\\Projects\\Emotion_counselling\\Facial-Emotion-Classification-main2\\Facial-Emotion-Classification-main\\GNN\\utils.py:3\u001b[0m\n\u001b[0;32m      1\u001b[0m \u001b[38;5;28;01mimport\u001b[39;00m\u001b[38;5;250m \u001b[39m\u001b[38;5;21;01mpathlib\u001b[39;00m\n\u001b[1;32m----> 3\u001b[0m \u001b[38;5;28;01mimport\u001b[39;00m\u001b[38;5;250m \u001b[39m\u001b[38;5;21;01mcv2\u001b[39;00m\n\u001b[0;32m      4\u001b[0m \u001b[38;5;28;01mimport\u001b[39;00m\u001b[38;5;250m \u001b[39m\u001b[38;5;21;01mmediapipe\u001b[39;00m\u001b[38;5;250m \u001b[39m\u001b[38;5;28;01mas\u001b[39;00m\u001b[38;5;250m \u001b[39m\u001b[38;5;21;01mmp\u001b[39;00m\n\u001b[0;32m      5\u001b[0m \u001b[38;5;28;01mimport\u001b[39;00m\u001b[38;5;250m \u001b[39m\u001b[38;5;21;01mnumpy\u001b[39;00m\u001b[38;5;250m \u001b[39m\u001b[38;5;28;01mas\u001b[39;00m\u001b[38;5;250m \u001b[39m\u001b[38;5;21;01mnp\u001b[39;00m\n",
      "\u001b[1;31mModuleNotFoundError\u001b[0m: No module named 'cv2'"
     ]
    }
   ],
   "source": [
    "import tensorflow as tf\n",
    "\n",
    "from keras import Input, Model\n",
    "from keras.callbacks import EarlyStopping\n",
    "from keras.layers import Dense, Flatten, BatchNormalization, LSTM\n",
    "from keras.optimizers import Adam\n",
    "from keras.regularizers import l2, l1, l1_l2\n",
    "\n",
    "# from spektral.layers import GraphConv\n",
    "# GRaphConv is deprecated, use GCNConv or GCSConv instead\n",
    "from spektral.utils.sparse import sp_matrix_to_sp_tensor\n",
    "from spektral.utils import normalized_laplacian\n",
    "from spektral.layers import GCSConv  # as GraphConv\n",
    "from spektral.layers import GINConv # as GraphConv\n",
    "from spektral.layers import GCNConv  # as GraphConv\n",
    "\n",
    "from spektral.utils.convolution import gcn_filter  # For GCNConv\n",
    "from spektral.utils.convolution import normalized_adjacency  # For GCSConv\n",
    "\n",
    "import numpy as np\n",
    "import scipy.sparse\n",
    "import pandas as pd\n",
    "import pathlib\n",
    "import os\n",
    "import json\n",
    "\n",
    "from sklearn.model_selection import train_test_split\n",
    "\n",
    "from utils import *\n",
    "\n",
    "import numpy as np"
   ]
  },
  {
   "cell_type": "code",
   "execution_count": 11,
   "metadata": {},
   "outputs": [
    {
     "name": "stdout",
     "output_type": "stream",
     "text": [
      "^C\n"
     ]
    }
   ],
   "source": [
    "!pip uninstall protobuf\n"
   ]
  },
  {
   "cell_type": "code",
   "execution_count": 12,
   "metadata": {},
   "outputs": [
    {
     "name": "stdout",
     "output_type": "stream",
     "text": [
      "Requirement already satisfied: protobuf in c:\\users\\dell\\onedrive - vit.ac.in\\documents\\projects\\emotion_counselling\\.venv\\lib\\site-packages (4.25.8)\n"
     ]
    },
    {
     "name": "stderr",
     "output_type": "stream",
     "text": [
      "WARNING: Ignoring invalid distribution -rotobuf (c:\\users\\dell\\onedrive - vit.ac.in\\documents\\projects\\emotion_counselling\\.venv\\lib\\site-packages)\n",
      "WARNING: Ignoring invalid distribution -rotobuf (c:\\users\\dell\\onedrive - vit.ac.in\\documents\\projects\\emotion_counselling\\.venv\\lib\\site-packages)\n",
      "WARNING: Ignoring invalid distribution -rotobuf (c:\\users\\dell\\onedrive - vit.ac.in\\documents\\projects\\emotion_counselling\\.venv\\lib\\site-packages)\n",
      "WARNING: Ignoring invalid distribution -rotobuf (c:\\users\\dell\\onedrive - vit.ac.in\\documents\\projects\\emotion_counselling\\.venv\\lib\\site-packages)\n",
      "WARNING: Ignoring invalid distribution -rotobuf (c:\\users\\dell\\onedrive - vit.ac.in\\documents\\projects\\emotion_counselling\\.venv\\lib\\site-packages)\n",
      "WARNING: Ignoring invalid distribution -rotobuf (c:\\users\\dell\\onedrive - vit.ac.in\\documents\\projects\\emotion_counselling\\.venv\\lib\\site-packages)\n",
      "WARNING: You are using pip version 21.2.3; however, version 25.2 is available.\n",
      "You should consider upgrading via the 'C:\\Users\\Dell\\OneDrive - vit.ac.in\\Documents\\Projects\\Emotion_counselling\\.venv\\Scripts\\python.exe -m pip install --upgrade pip' command.\n"
     ]
    }
   ],
   "source": [
    "!pip install protobuf"
   ]
  },
  {
   "cell_type": "code",
   "execution_count": 1,
   "metadata": {},
   "outputs": [
    {
     "name": "stdout",
     "output_type": "stream",
     "text": [
      "Requirement already satisfied: mediapipe in c:\\users\\dell\\appdata\\local\\programs\\python\\python310\\lib\\site-packages (0.10.21)\n",
      "Requirement already satisfied: attrs>=19.1.0 in c:\\users\\dell\\appdata\\local\\programs\\python\\python310\\lib\\site-packages (from mediapipe) (25.3.0)\n",
      "Requirement already satisfied: sentencepiece in c:\\users\\dell\\appdata\\local\\programs\\python\\python310\\lib\\site-packages (from mediapipe) (0.2.0)\n",
      "Requirement already satisfied: numpy<2 in c:\\users\\dell\\appdata\\local\\programs\\python\\python310\\lib\\site-packages (from mediapipe) (1.26.4)\n",
      "Requirement already satisfied: absl-py in c:\\users\\dell\\appdata\\local\\programs\\python\\python310\\lib\\site-packages (from mediapipe) (2.3.0)\n",
      "Collecting protobuf<5,>=4.25.3\n",
      "  Using cached protobuf-4.25.8-cp310-abi3-win_amd64.whl (413 kB)\n",
      "Requirement already satisfied: jax in c:\\users\\dell\\appdata\\local\\programs\\python\\python310\\lib\\site-packages (from mediapipe) (0.6.2)\n",
      "Requirement already satisfied: sounddevice>=0.4.4 in c:\\users\\dell\\appdata\\local\\programs\\python\\python310\\lib\\site-packages (from mediapipe) (0.5.2)\n",
      "Requirement already satisfied: jaxlib in c:\\users\\dell\\appdata\\local\\programs\\python\\python310\\lib\\site-packages (from mediapipe) (0.6.2)\n",
      "Requirement already satisfied: opencv-contrib-python in c:\\users\\dell\\appdata\\local\\programs\\python\\python310\\lib\\site-packages (from mediapipe) (4.11.0.86)\n",
      "Requirement already satisfied: flatbuffers>=2.0 in c:\\users\\dell\\appdata\\local\\programs\\python\\python310\\lib\\site-packages (from mediapipe) (2.0.7)\n",
      "Requirement already satisfied: matplotlib in c:\\users\\dell\\appdata\\local\\programs\\python\\python310\\lib\\site-packages (from mediapipe) (3.10.3)\n",
      "Requirement already satisfied: CFFI>=1.0 in c:\\users\\dell\\appdata\\local\\programs\\python\\python310\\lib\\site-packages (from sounddevice>=0.4.4->mediapipe) (1.17.1)\n",
      "Requirement already satisfied: pycparser in c:\\users\\dell\\appdata\\local\\programs\\python\\python310\\lib\\site-packages (from CFFI>=1.0->sounddevice>=0.4.4->mediapipe) (2.22)\n",
      "Requirement already satisfied: scipy>=1.12 in c:\\users\\dell\\appdata\\local\\programs\\python\\python310\\lib\\site-packages (from jax->mediapipe) (1.15.3)\n",
      "Requirement already satisfied: opt_einsum in c:\\users\\dell\\appdata\\local\\programs\\python\\python310\\lib\\site-packages (from jax->mediapipe) (3.4.0)\n",
      "Requirement already satisfied: ml_dtypes>=0.5.0 in c:\\users\\dell\\appdata\\local\\programs\\python\\python310\\lib\\site-packages (from jax->mediapipe) (0.5.1)\n",
      "Requirement already satisfied: kiwisolver>=1.3.1 in c:\\users\\dell\\appdata\\local\\programs\\python\\python310\\lib\\site-packages (from matplotlib->mediapipe) (1.4.8)\n",
      "Requirement already satisfied: pillow>=8 in c:\\users\\dell\\appdata\\local\\programs\\python\\python310\\lib\\site-packages (from matplotlib->mediapipe) (11.2.1)\n",
      "Requirement already satisfied: packaging>=20.0 in c:\\users\\dell\\appdata\\roaming\\python\\python310\\site-packages (from matplotlib->mediapipe) (25.0)\n",
      "Requirement already satisfied: fonttools>=4.22.0 in c:\\users\\dell\\appdata\\local\\programs\\python\\python310\\lib\\site-packages (from matplotlib->mediapipe) (4.58.4)\n",
      "Requirement already satisfied: cycler>=0.10 in c:\\users\\dell\\appdata\\local\\programs\\python\\python310\\lib\\site-packages (from matplotlib->mediapipe) (0.12.1)\n",
      "Requirement already satisfied: contourpy>=1.0.1 in c:\\users\\dell\\appdata\\local\\programs\\python\\python310\\lib\\site-packages (from matplotlib->mediapipe) (1.3.2)\n",
      "Requirement already satisfied: python-dateutil>=2.7 in c:\\users\\dell\\appdata\\roaming\\python\\python310\\site-packages (from matplotlib->mediapipe) (2.9.0.post0)\n",
      "Requirement already satisfied: pyparsing>=2.3.1 in c:\\users\\dell\\appdata\\local\\programs\\python\\python310\\lib\\site-packages (from matplotlib->mediapipe) (3.2.3)\n",
      "Requirement already satisfied: six>=1.5 in c:\\users\\dell\\appdata\\roaming\\python\\python310\\site-packages (from python-dateutil>=2.7->matplotlib->mediapipe) (1.17.0)\n",
      "Installing collected packages: protobuf\n",
      "  Attempting uninstall: protobuf\n",
      "    Found existing installation: protobuf 6.31.1\n",
      "    Uninstalling protobuf-6.31.1:\n",
      "      Successfully uninstalled protobuf-6.31.1\n",
      "Successfully installed protobuf-4.25.8\n"
     ]
    },
    {
     "name": "stderr",
     "output_type": "stream",
     "text": [
      "ERROR: pip's dependency resolver does not currently take into account all the packages that are installed. This behaviour is the source of the following dependency conflicts.\n",
      "tensorflow 2.19.0 requires flatbuffers>=24.3.25, but you have flatbuffers 2.0.7 which is incompatible.\n",
      "grpcio-status 1.74.0 requires protobuf<7.0.0,>=6.31.1, but you have protobuf 4.25.8 which is incompatible.\n",
      "WARNING: You are using pip version 21.2.3; however, version 25.2 is available.\n",
      "You should consider upgrading via the 'C:\\Users\\Dell\\AppData\\Local\\Programs\\Python\\Python310\\python.exe -m pip install --upgrade pip' command.\n"
     ]
    }
   ],
   "source": [
    "!pip install mediapipe"
   ]
  },
  {
   "cell_type": "code",
   "execution_count": 2,
   "metadata": {},
   "outputs": [
    {
     "name": "stdout",
     "output_type": "stream",
     "text": [
      "0.10.21\n"
     ]
    }
   ],
   "source": [
    "import mediapipe as mp\n",
    "print(mp.__version__)\n"
   ]
  },
  {
   "cell_type": "code",
   "execution_count": 2,
   "metadata": {},
   "outputs": [],
   "source": [
    "import tensorflow as tf\n",
    "from tensorflow.keras import Input, Model\n",
    "from tensorflow.keras.callbacks import EarlyStopping\n",
    "from tensorflow.keras.layers import Dense, Flatten, BatchNormalization, Dropout\n",
    "from tensorflow.keras.optimizers import Adam\n",
    "from tensorflow.keras.regularizers import l2\n",
    "\n",
    "from spektral.layers import GINConv, GCNConv\n",
    "from spektral.utils.sparse import sp_matrix_to_sp_tensor\n",
    "\n",
    "import numpy as np\n",
    "import scipy.sparse\n",
    "import pandas as pd\n",
    "import pathlib\n",
    "import os\n",
    "import json\n",
    "from sklearn.model_selection import train_test_split\n",
    "from mediapipe.python.solutions.face_mesh_connections import FACEMESH_TESSELATION\n",
    "\n",
    "# Parameters\n",
    "l2_reg = 5e-4\n",
    "learning_rate = 1e-3\n",
    "batch_size = 32\n",
    "epochs = 5\n",
    "es_patience = 200\n",
    "RANDOM_SEED = 42\n",
    "\n",
    "np.random.seed(RANDOM_SEED)\n",
    "tf.random.set_seed(RANDOM_SEED)\n",
    "\n"
   ]
  },
  {
   "cell_type": "code",
   "execution_count": 5,
   "metadata": {},
   "outputs": [],
   "source": [
    "def get_mediapipe_adjacency_matrix():\n",
    "    \"\"\"Create adjacency matrix from MediaPipe face mesh connections\"\"\"\n",
    "    # MediaPipe face mesh has 468 landmarks\n",
    "    n_nodes = 468\n",
    "    adj_matrix = np.zeros((n_nodes, n_nodes), dtype=np.float32)\n",
    "    \n",
    "    # Add edges based on MediaPipe face mesh connections\n",
    "    for connection in FACEMESH_TESSELATION:\n",
    "        i, j = connection[0], connection[1]\n",
    "        if i < n_nodes and j < n_nodes:  # Ensure indices are valid\n",
    "            adj_matrix[i, j] = 1.0\n",
    "            adj_matrix[j, i] = 1.0  # Undirected graph\n",
    "    \n",
    "    # Add self-loops\n",
    "    np.fill_diagonal(adj_matrix, 1.0)\n",
    "    \n",
    "    return adj_matrix\n",
    "\n",
    "def normalize_mesh_points(mesh_points):\n",
    "    \"\"\"Normalize mesh points to unit scale\"\"\"\n",
    "    mesh_points = np.array(mesh_points, dtype=np.float32)\n",
    "    \n",
    "    # Center the points\n",
    "    center = np.mean(mesh_points, axis=0)\n",
    "    mesh_points = mesh_points - center\n",
    "    \n",
    "    # Scale to unit variance\n",
    "    scale = np.std(mesh_points)\n",
    "    if scale > 0:\n",
    "        mesh_points = mesh_points / scale\n",
    "    \n",
    "    return mesh_points\n",
    "\n",
    "def load_mesh_data(path_list, limit=1.0):\n",
    "    \"\"\"Load and preprocess mesh data from directories\"\"\"\n",
    "    all_meshes = []\n",
    "    all_labels = []\n",
    "    \n",
    "    for emotion_idx, path in enumerate(path_list):\n",
    "        if not path.exists():\n",
    "            print(f\"Path does not exist: {path}\")\n",
    "            continue\n",
    "            \n",
    "        files = os.listdir(path)\n",
    "        num_files = len(files)\n",
    "        files_to_process = int(num_files * limit)\n",
    "        \n",
    "        emotion_meshes = []\n",
    "        processed = 0\n",
    "        \n",
    "        for file in files[:files_to_process]:\n",
    "            if not file.endswith('.json'):\n",
    "                continue\n",
    "                \n",
    "            file_path = path / file\n",
    "            try:\n",
    "                with open(file_path, 'r') as f:\n",
    "                    data = json.load(f)\n",
    "                    \n",
    "                # Ensure we have exactly 468 landmarks\n",
    "                if len(data) != 468:\n",
    "                    print(f\"Skipping {file}: expected 468 landmarks, got {len(data)}\")\n",
    "                    continue\n",
    "                \n",
    "                # Normalize the mesh points\n",
    "                normalized_mesh = normalize_mesh_points(data)\n",
    "                emotion_meshes.append(normalized_mesh)\n",
    "                processed += 1\n",
    "                \n",
    "            except Exception as e:\n",
    "                print(f\"Error loading {file}: {e}\")\n",
    "                continue\n",
    "        \n",
    "        print(f\"Loaded {processed} samples for emotion {emotion_idx}\")\n",
    "        \n",
    "        # Add to overall lists\n",
    "        all_meshes.extend(emotion_meshes)\n",
    "        all_labels.extend([emotion_idx] * len(emotion_meshes))\n",
    "    \n",
    "    return np.array(all_meshes, dtype=np.float32), np.array(all_labels, dtype=np.int32)\n",
    "\n"
   ]
  },
  {
   "cell_type": "code",
   "execution_count": 6,
   "metadata": {},
   "outputs": [
    {
     "name": "stdout",
     "output_type": "stream",
     "text": [
      "Loading mesh data...\n",
      "Loaded 7603 samples for emotion 0\n",
      "Loaded 6174 samples for emotion 1\n",
      "Loaded 8681 samples for emotion 2\n",
      "Loaded 9579 samples for emotion 3\n",
      "Loaded 7965 samples for emotion 4\n",
      "Loaded 8522 samples for emotion 5\n",
      "Total samples loaded: 48524\n",
      "Data shape: (48524, 468, 2)\n",
      "Labels shape: (48524,)\n",
      "angry: 7603 samples\n",
      "disgusted: 6174 samples\n",
      "happy: 8681 samples\n",
      "neutral: 9579 samples\n",
      "sad: 7965 samples\n",
      "surprised: 8522 samples\n",
      "Train samples: 31055\n",
      "Validation samples: 7764\n",
      "Test samples: 9705\n",
      "Train tensor shape: (31055, 468, 2)\n",
      "Train labels shape: (31055,)\n",
      "Number of nodes: 468\n",
      "Number of features per node: 2\n",
      "Creating adjacency matrix...\n",
      "Adjacency matrix shape: (468, 468)\n",
      "Number of edges: 1556\n"
     ]
    }
   ],
   "source": [
    "# Define paths\n",
    "current_path = pathlib.Path().absolute()\n",
    "parent_path = current_path.parent\n",
    "\n",
    "path_list = [\n",
    "    parent_path / 'angry_meshpoints',\n",
    "    parent_path / 'disgusted_meshpoints', \n",
    "    parent_path / 'happy_meshpoints',\n",
    "    parent_path / 'neutral_meshpoints',\n",
    "    parent_path / 'sad_meshpoints',\n",
    "    parent_path / 'surprised_meshpoints'\n",
    "]\n",
    "\n",
    "emotion_names = ['angry', 'disgusted', 'happy', 'neutral', 'sad', 'surprised']\n",
    "\n",
    "print(\"Loading mesh data...\")\n",
    "X_data, y_data = load_mesh_data(path_list, limit=1.0)\n",
    "\n",
    "print(f\"Total samples loaded: {len(X_data)}\")\n",
    "print(f\"Data shape: {X_data.shape}\")\n",
    "print(f\"Labels shape: {y_data.shape}\")\n",
    "\n",
    "# Print class distribution\n",
    "unique, counts = np.unique(y_data, return_counts=True)\n",
    "for emotion_idx, count in zip(unique, counts):\n",
    "    print(f\"{emotion_names[emotion_idx]}: {count} samples\")\n",
    "\n",
    "# Split the dataset\n",
    "X_train, X_test, y_train, y_test = train_test_split(\n",
    "    X_data, y_data, test_size=0.2, shuffle=True, random_state=RANDOM_SEED, stratify=y_data\n",
    ")\n",
    "\n",
    "X_train, X_val, y_train, y_val = train_test_split(\n",
    "    X_train, y_train, test_size=0.2, shuffle=True, random_state=RANDOM_SEED, stratify=y_train\n",
    ")\n",
    "\n",
    "print(f\"Train samples: {len(X_train)}\")\n",
    "print(f\"Validation samples: {len(X_val)}\")\n",
    "print(f\"Test samples: {len(X_test)}\")\n",
    "\n",
    "# Convert to TensorFlow tensors\n",
    "X_train_tensor = tf.constant(X_train, dtype=tf.float32)\n",
    "y_train_tensor = tf.constant(y_train, dtype=tf.int32)\n",
    "X_val_tensor = tf.constant(X_val, dtype=tf.float32)\n",
    "y_val_tensor = tf.constant(y_val, dtype=tf.int32)\n",
    "X_test_tensor = tf.constant(X_test, dtype=tf.float32)\n",
    "y_test_tensor = tf.constant(y_test, dtype=tf.int32)\n",
    "\n",
    "print(f\"Train tensor shape: {X_train_tensor.shape}\")\n",
    "print(f\"Train labels shape: {y_train_tensor.shape}\")\n",
    "\n",
    "# Model parameters\n",
    "n_out = 6  # Number of emotion classes\n",
    "N = X_train_tensor.shape[1]  # Number of nodes (468)\n",
    "F = X_train_tensor.shape[2]  # Feature dimensionality (2 for x,y coordinates)\n",
    "\n",
    "print(f\"Number of nodes: {N}\")\n",
    "print(f\"Number of features per node: {F}\")\n",
    "\n",
    "# Create adjacency matrix\n",
    "print(\"Creating adjacency matrix...\")\n",
    "adj_matrix = get_mediapipe_adjacency_matrix()\n",
    "print(f\"Adjacency matrix shape: {adj_matrix.shape}\")\n",
    "print(f\"Number of edges: {np.sum(adj_matrix > 0) // 2}\")  # Divide by 2 for undirected graph\n",
    "\n",
    "# Convert to sparse tensor for efficiency\n",
    "adj_sparse = scipy.sparse.csr_matrix(adj_matrix)\n",
    "adj_tensor = sp_matrix_to_sp_tensor(adj_sparse)\n",
    "\n",
    "\n"
   ]
  },
  {
   "cell_type": "markdown",
   "metadata": {},
   "source": [
    "V1"
   ]
  },
  {
   "cell_type": "code",
   "execution_count": 7,
   "metadata": {},
   "outputs": [
    {
     "name": "stdout",
     "output_type": "stream",
     "text": [
      "Building model...\n",
      "WARNING:tensorflow:From c:\\Users\\Dell\\AppData\\Local\\Programs\\Python\\Python310\\lib\\site-packages\\keras\\src\\backend\\tensorflow\\core.py:232: The name tf.placeholder is deprecated. Please use tf.compat.v1.placeholder instead.\n",
      "\n"
     ]
    },
    {
     "data": {
      "text/html": [
       "<pre style=\"white-space:pre;overflow-x:auto;line-height:normal;font-family:Menlo,'DejaVu Sans Mono',consolas,'Courier New',monospace\"><span style=\"font-weight: bold\">Model: \"functional_2\"</span>\n",
       "</pre>\n"
      ],
      "text/plain": [
       "\u001b[1mModel: \"functional_2\"\u001b[0m\n"
      ]
     },
     "metadata": {},
     "output_type": "display_data"
    },
    {
     "data": {
      "text/html": [
       "<pre style=\"white-space:pre;overflow-x:auto;line-height:normal;font-family:Menlo,'DejaVu Sans Mono',consolas,'Courier New',monospace\">┏━━━━━━━━━━━━━━━━━━━━━━━━━━━━━━━━━┳━━━━━━━━━━━━━━━━━━━━━━━━┳━━━━━━━━━━━━━━━┓\n",
       "┃<span style=\"font-weight: bold\"> Layer (type)                    </span>┃<span style=\"font-weight: bold\"> Output Shape           </span>┃<span style=\"font-weight: bold\">       Param # </span>┃\n",
       "┡━━━━━━━━━━━━━━━━━━━━━━━━━━━━━━━━━╇━━━━━━━━━━━━━━━━━━━━━━━━╇━━━━━━━━━━━━━━━┩\n",
       "│ node_features (<span style=\"color: #0087ff; text-decoration-color: #0087ff\">InputLayer</span>)      │ (<span style=\"color: #00d7ff; text-decoration-color: #00d7ff\">None</span>, <span style=\"color: #00af00; text-decoration-color: #00af00\">468</span>, <span style=\"color: #00af00; text-decoration-color: #00af00\">2</span>)         │             <span style=\"color: #00af00; text-decoration-color: #00af00\">0</span> │\n",
       "├─────────────────────────────────┼────────────────────────┼───────────────┤\n",
       "│ gin_conv (<span style=\"color: #0087ff; text-decoration-color: #0087ff\">GINConv</span>)              │ (<span style=\"color: #00d7ff; text-decoration-color: #00d7ff\">None</span>, <span style=\"color: #00af00; text-decoration-color: #00af00\">468</span>, <span style=\"color: #00af00; text-decoration-color: #00af00\">64</span>)        │           <span style=\"color: #00af00; text-decoration-color: #00af00\">193</span> │\n",
       "├─────────────────────────────────┼────────────────────────┼───────────────┤\n",
       "│ batch_normalization             │ (<span style=\"color: #00d7ff; text-decoration-color: #00d7ff\">None</span>, <span style=\"color: #00af00; text-decoration-color: #00af00\">468</span>, <span style=\"color: #00af00; text-decoration-color: #00af00\">64</span>)        │           <span style=\"color: #00af00; text-decoration-color: #00af00\">256</span> │\n",
       "│ (<span style=\"color: #0087ff; text-decoration-color: #0087ff\">BatchNormalization</span>)            │                        │               │\n",
       "├─────────────────────────────────┼────────────────────────┼───────────────┤\n",
       "│ dropout (<span style=\"color: #0087ff; text-decoration-color: #0087ff\">Dropout</span>)               │ (<span style=\"color: #00d7ff; text-decoration-color: #00d7ff\">None</span>, <span style=\"color: #00af00; text-decoration-color: #00af00\">468</span>, <span style=\"color: #00af00; text-decoration-color: #00af00\">64</span>)        │             <span style=\"color: #00af00; text-decoration-color: #00af00\">0</span> │\n",
       "├─────────────────────────────────┼────────────────────────┼───────────────┤\n",
       "│ gin_conv_1 (<span style=\"color: #0087ff; text-decoration-color: #0087ff\">GINConv</span>)            │ (<span style=\"color: #00d7ff; text-decoration-color: #00d7ff\">None</span>, <span style=\"color: #00af00; text-decoration-color: #00af00\">468</span>, <span style=\"color: #00af00; text-decoration-color: #00af00\">32</span>)        │         <span style=\"color: #00af00; text-decoration-color: #00af00\">2,081</span> │\n",
       "├─────────────────────────────────┼────────────────────────┼───────────────┤\n",
       "│ batch_normalization_1           │ (<span style=\"color: #00d7ff; text-decoration-color: #00d7ff\">None</span>, <span style=\"color: #00af00; text-decoration-color: #00af00\">468</span>, <span style=\"color: #00af00; text-decoration-color: #00af00\">32</span>)        │           <span style=\"color: #00af00; text-decoration-color: #00af00\">128</span> │\n",
       "│ (<span style=\"color: #0087ff; text-decoration-color: #0087ff\">BatchNormalization</span>)            │                        │               │\n",
       "├─────────────────────────────────┼────────────────────────┼───────────────┤\n",
       "│ dropout_1 (<span style=\"color: #0087ff; text-decoration-color: #0087ff\">Dropout</span>)             │ (<span style=\"color: #00d7ff; text-decoration-color: #00d7ff\">None</span>, <span style=\"color: #00af00; text-decoration-color: #00af00\">468</span>, <span style=\"color: #00af00; text-decoration-color: #00af00\">32</span>)        │             <span style=\"color: #00af00; text-decoration-color: #00af00\">0</span> │\n",
       "├─────────────────────────────────┼────────────────────────┼───────────────┤\n",
       "│ flatten (<span style=\"color: #0087ff; text-decoration-color: #0087ff\">Flatten</span>)               │ (<span style=\"color: #00d7ff; text-decoration-color: #00d7ff\">None</span>, <span style=\"color: #00af00; text-decoration-color: #00af00\">14976</span>)          │             <span style=\"color: #00af00; text-decoration-color: #00af00\">0</span> │\n",
       "├─────────────────────────────────┼────────────────────────┼───────────────┤\n",
       "│ dense_2 (<span style=\"color: #0087ff; text-decoration-color: #0087ff\">Dense</span>)                 │ (<span style=\"color: #00d7ff; text-decoration-color: #00d7ff\">None</span>, <span style=\"color: #00af00; text-decoration-color: #00af00\">256</span>)            │     <span style=\"color: #00af00; text-decoration-color: #00af00\">3,834,112</span> │\n",
       "├─────────────────────────────────┼────────────────────────┼───────────────┤\n",
       "│ batch_normalization_2           │ (<span style=\"color: #00d7ff; text-decoration-color: #00d7ff\">None</span>, <span style=\"color: #00af00; text-decoration-color: #00af00\">256</span>)            │         <span style=\"color: #00af00; text-decoration-color: #00af00\">1,024</span> │\n",
       "│ (<span style=\"color: #0087ff; text-decoration-color: #0087ff\">BatchNormalization</span>)            │                        │               │\n",
       "├─────────────────────────────────┼────────────────────────┼───────────────┤\n",
       "│ dropout_2 (<span style=\"color: #0087ff; text-decoration-color: #0087ff\">Dropout</span>)             │ (<span style=\"color: #00d7ff; text-decoration-color: #00d7ff\">None</span>, <span style=\"color: #00af00; text-decoration-color: #00af00\">256</span>)            │             <span style=\"color: #00af00; text-decoration-color: #00af00\">0</span> │\n",
       "├─────────────────────────────────┼────────────────────────┼───────────────┤\n",
       "│ dense_3 (<span style=\"color: #0087ff; text-decoration-color: #0087ff\">Dense</span>)                 │ (<span style=\"color: #00d7ff; text-decoration-color: #00d7ff\">None</span>, <span style=\"color: #00af00; text-decoration-color: #00af00\">128</span>)            │        <span style=\"color: #00af00; text-decoration-color: #00af00\">32,896</span> │\n",
       "├─────────────────────────────────┼────────────────────────┼───────────────┤\n",
       "│ batch_normalization_3           │ (<span style=\"color: #00d7ff; text-decoration-color: #00d7ff\">None</span>, <span style=\"color: #00af00; text-decoration-color: #00af00\">128</span>)            │           <span style=\"color: #00af00; text-decoration-color: #00af00\">512</span> │\n",
       "│ (<span style=\"color: #0087ff; text-decoration-color: #0087ff\">BatchNormalization</span>)            │                        │               │\n",
       "├─────────────────────────────────┼────────────────────────┼───────────────┤\n",
       "│ dropout_3 (<span style=\"color: #0087ff; text-decoration-color: #0087ff\">Dropout</span>)             │ (<span style=\"color: #00d7ff; text-decoration-color: #00d7ff\">None</span>, <span style=\"color: #00af00; text-decoration-color: #00af00\">128</span>)            │             <span style=\"color: #00af00; text-decoration-color: #00af00\">0</span> │\n",
       "├─────────────────────────────────┼────────────────────────┼───────────────┤\n",
       "│ emotion_output (<span style=\"color: #0087ff; text-decoration-color: #0087ff\">Dense</span>)          │ (<span style=\"color: #00d7ff; text-decoration-color: #00d7ff\">None</span>, <span style=\"color: #00af00; text-decoration-color: #00af00\">6</span>)              │           <span style=\"color: #00af00; text-decoration-color: #00af00\">774</span> │\n",
       "└─────────────────────────────────┴────────────────────────┴───────────────┘\n",
       "</pre>\n"
      ],
      "text/plain": [
       "┏━━━━━━━━━━━━━━━━━━━━━━━━━━━━━━━━━┳━━━━━━━━━━━━━━━━━━━━━━━━┳━━━━━━━━━━━━━━━┓\n",
       "┃\u001b[1m \u001b[0m\u001b[1mLayer (type)                   \u001b[0m\u001b[1m \u001b[0m┃\u001b[1m \u001b[0m\u001b[1mOutput Shape          \u001b[0m\u001b[1m \u001b[0m┃\u001b[1m \u001b[0m\u001b[1m      Param #\u001b[0m\u001b[1m \u001b[0m┃\n",
       "┡━━━━━━━━━━━━━━━━━━━━━━━━━━━━━━━━━╇━━━━━━━━━━━━━━━━━━━━━━━━╇━━━━━━━━━━━━━━━┩\n",
       "│ node_features (\u001b[38;5;33mInputLayer\u001b[0m)      │ (\u001b[38;5;45mNone\u001b[0m, \u001b[38;5;34m468\u001b[0m, \u001b[38;5;34m2\u001b[0m)         │             \u001b[38;5;34m0\u001b[0m │\n",
       "├─────────────────────────────────┼────────────────────────┼───────────────┤\n",
       "│ gin_conv (\u001b[38;5;33mGINConv\u001b[0m)              │ (\u001b[38;5;45mNone\u001b[0m, \u001b[38;5;34m468\u001b[0m, \u001b[38;5;34m64\u001b[0m)        │           \u001b[38;5;34m193\u001b[0m │\n",
       "├─────────────────────────────────┼────────────────────────┼───────────────┤\n",
       "│ batch_normalization             │ (\u001b[38;5;45mNone\u001b[0m, \u001b[38;5;34m468\u001b[0m, \u001b[38;5;34m64\u001b[0m)        │           \u001b[38;5;34m256\u001b[0m │\n",
       "│ (\u001b[38;5;33mBatchNormalization\u001b[0m)            │                        │               │\n",
       "├─────────────────────────────────┼────────────────────────┼───────────────┤\n",
       "│ dropout (\u001b[38;5;33mDropout\u001b[0m)               │ (\u001b[38;5;45mNone\u001b[0m, \u001b[38;5;34m468\u001b[0m, \u001b[38;5;34m64\u001b[0m)        │             \u001b[38;5;34m0\u001b[0m │\n",
       "├─────────────────────────────────┼────────────────────────┼───────────────┤\n",
       "│ gin_conv_1 (\u001b[38;5;33mGINConv\u001b[0m)            │ (\u001b[38;5;45mNone\u001b[0m, \u001b[38;5;34m468\u001b[0m, \u001b[38;5;34m32\u001b[0m)        │         \u001b[38;5;34m2,081\u001b[0m │\n",
       "├─────────────────────────────────┼────────────────────────┼───────────────┤\n",
       "│ batch_normalization_1           │ (\u001b[38;5;45mNone\u001b[0m, \u001b[38;5;34m468\u001b[0m, \u001b[38;5;34m32\u001b[0m)        │           \u001b[38;5;34m128\u001b[0m │\n",
       "│ (\u001b[38;5;33mBatchNormalization\u001b[0m)            │                        │               │\n",
       "├─────────────────────────────────┼────────────────────────┼───────────────┤\n",
       "│ dropout_1 (\u001b[38;5;33mDropout\u001b[0m)             │ (\u001b[38;5;45mNone\u001b[0m, \u001b[38;5;34m468\u001b[0m, \u001b[38;5;34m32\u001b[0m)        │             \u001b[38;5;34m0\u001b[0m │\n",
       "├─────────────────────────────────┼────────────────────────┼───────────────┤\n",
       "│ flatten (\u001b[38;5;33mFlatten\u001b[0m)               │ (\u001b[38;5;45mNone\u001b[0m, \u001b[38;5;34m14976\u001b[0m)          │             \u001b[38;5;34m0\u001b[0m │\n",
       "├─────────────────────────────────┼────────────────────────┼───────────────┤\n",
       "│ dense_2 (\u001b[38;5;33mDense\u001b[0m)                 │ (\u001b[38;5;45mNone\u001b[0m, \u001b[38;5;34m256\u001b[0m)            │     \u001b[38;5;34m3,834,112\u001b[0m │\n",
       "├─────────────────────────────────┼────────────────────────┼───────────────┤\n",
       "│ batch_normalization_2           │ (\u001b[38;5;45mNone\u001b[0m, \u001b[38;5;34m256\u001b[0m)            │         \u001b[38;5;34m1,024\u001b[0m │\n",
       "│ (\u001b[38;5;33mBatchNormalization\u001b[0m)            │                        │               │\n",
       "├─────────────────────────────────┼────────────────────────┼───────────────┤\n",
       "│ dropout_2 (\u001b[38;5;33mDropout\u001b[0m)             │ (\u001b[38;5;45mNone\u001b[0m, \u001b[38;5;34m256\u001b[0m)            │             \u001b[38;5;34m0\u001b[0m │\n",
       "├─────────────────────────────────┼────────────────────────┼───────────────┤\n",
       "│ dense_3 (\u001b[38;5;33mDense\u001b[0m)                 │ (\u001b[38;5;45mNone\u001b[0m, \u001b[38;5;34m128\u001b[0m)            │        \u001b[38;5;34m32,896\u001b[0m │\n",
       "├─────────────────────────────────┼────────────────────────┼───────────────┤\n",
       "│ batch_normalization_3           │ (\u001b[38;5;45mNone\u001b[0m, \u001b[38;5;34m128\u001b[0m)            │           \u001b[38;5;34m512\u001b[0m │\n",
       "│ (\u001b[38;5;33mBatchNormalization\u001b[0m)            │                        │               │\n",
       "├─────────────────────────────────┼────────────────────────┼───────────────┤\n",
       "│ dropout_3 (\u001b[38;5;33mDropout\u001b[0m)             │ (\u001b[38;5;45mNone\u001b[0m, \u001b[38;5;34m128\u001b[0m)            │             \u001b[38;5;34m0\u001b[0m │\n",
       "├─────────────────────────────────┼────────────────────────┼───────────────┤\n",
       "│ emotion_output (\u001b[38;5;33mDense\u001b[0m)          │ (\u001b[38;5;45mNone\u001b[0m, \u001b[38;5;34m6\u001b[0m)              │           \u001b[38;5;34m774\u001b[0m │\n",
       "└─────────────────────────────────┴────────────────────────┴───────────────┘\n"
      ]
     },
     "metadata": {},
     "output_type": "display_data"
    },
    {
     "data": {
      "text/html": [
       "<pre style=\"white-space:pre;overflow-x:auto;line-height:normal;font-family:Menlo,'DejaVu Sans Mono',consolas,'Courier New',monospace\"><span style=\"font-weight: bold\"> Total params: </span><span style=\"color: #00af00; text-decoration-color: #00af00\">3,871,976</span> (14.77 MB)\n",
       "</pre>\n"
      ],
      "text/plain": [
       "\u001b[1m Total params: \u001b[0m\u001b[38;5;34m3,871,976\u001b[0m (14.77 MB)\n"
      ]
     },
     "metadata": {},
     "output_type": "display_data"
    },
    {
     "data": {
      "text/html": [
       "<pre style=\"white-space:pre;overflow-x:auto;line-height:normal;font-family:Menlo,'DejaVu Sans Mono',consolas,'Courier New',monospace\"><span style=\"font-weight: bold\"> Trainable params: </span><span style=\"color: #00af00; text-decoration-color: #00af00\">3,871,016</span> (14.77 MB)\n",
       "</pre>\n"
      ],
      "text/plain": [
       "\u001b[1m Trainable params: \u001b[0m\u001b[38;5;34m3,871,016\u001b[0m (14.77 MB)\n"
      ]
     },
     "metadata": {},
     "output_type": "display_data"
    },
    {
     "data": {
      "text/html": [
       "<pre style=\"white-space:pre;overflow-x:auto;line-height:normal;font-family:Menlo,'DejaVu Sans Mono',consolas,'Courier New',monospace\"><span style=\"font-weight: bold\"> Non-trainable params: </span><span style=\"color: #00af00; text-decoration-color: #00af00\">960</span> (3.75 KB)\n",
       "</pre>\n"
      ],
      "text/plain": [
       "\u001b[1m Non-trainable params: \u001b[0m\u001b[38;5;34m960\u001b[0m (3.75 KB)\n"
      ]
     },
     "metadata": {},
     "output_type": "display_data"
    }
   ],
   "source": [
    "# Build the GNN model\n",
    "print(\"Building model...\")\n",
    "X_in = Input(shape=(N, F), name='node_features')\n",
    "\n",
    "# First GNN layer\n",
    "x = GINConv(64, activation=\"relu\", kernel_regularizer=l2(l2_reg))([X_in, adj_tensor])\n",
    "x = BatchNormalization()(x)\n",
    "x = Dropout(0.3)(x)\n",
    "\n",
    "# Second GNN layer\n",
    "x = GINConv(32, activation=\"relu\", kernel_regularizer=l2(l2_reg))([x, adj_tensor])\n",
    "x = BatchNormalization()(x)\n",
    "x = Dropout(0.3)(x)\n",
    "\n",
    "# Global pooling (flatten all node features)\n",
    "x = Flatten()(x)\n",
    "\n",
    "# Fully connected layers\n",
    "x = Dense(256, activation=\"relu\", kernel_regularizer=l2(l2_reg))(x)\n",
    "x = BatchNormalization()(x)\n",
    "x = Dropout(0.5)(x)\n",
    "\n",
    "x = Dense(128, activation=\"relu\", kernel_regularizer=l2(l2_reg))(x)\n",
    "x = BatchNormalization()(x)\n",
    "x = Dropout(0.3)(x)\n",
    "\n",
    "# Output layer\n",
    "output = Dense(n_out, activation=\"softmax\", name='emotion_output')(x)\n",
    "\n",
    "# Create and compile model\n",
    "model = Model(inputs=X_in, outputs=output)\n",
    "optimizer = Adam(learning_rate=learning_rate)\n",
    "model.compile(\n",
    "    optimizer=optimizer,\n",
    "    loss=\"sparse_categorical_crossentropy\",\n",
    "    metrics=[\"accuracy\"]\n",
    ")\n",
    "\n",
    "model.summary()\n"
   ]
  },
  {
   "cell_type": "markdown",
   "metadata": {},
   "source": [
    "V2 model "
   ]
  },
  {
   "cell_type": "code",
   "execution_count": 9,
   "metadata": {},
   "outputs": [
    {
     "ename": "AssertionError",
     "evalue": "Exception encountered when calling GINConv.call().\n\n\u001b[1mCould not automatically infer the output shape / dtype of 'gin_conv_4' (of type GINConv). Either the `GINConv.call()` method is incorrect, or you need to implement the `GINConv.compute_output_spec() / compute_output_shape()` method. Error encountered:\n\nA must have rank 2\u001b[0m\n\nArguments received by GINConv.call():\n  • args=(['<KerasTensor shape=(None, 468, 2), dtype=float32, sparse=False, ragged=False, name=X_in>', '<KerasTensor shape=(None, 468, 468), dtype=float32, sparse=True, ragged=False, name=A_in>'],)\n  • kwargs=<class 'inspect._empty'>",
     "output_type": "error",
     "traceback": [
      "\u001b[1;31m---------------------------------------------------------------------------\u001b[0m",
      "\u001b[1;31mAssertionError\u001b[0m                            Traceback (most recent call last)",
      "Cell \u001b[1;32mIn[9], line 17\u001b[0m\n\u001b[0;32m      9\u001b[0m A_in \u001b[38;5;241m=\u001b[39m Input(\n\u001b[0;32m     10\u001b[0m     shape\u001b[38;5;241m=\u001b[39m(N, N),\n\u001b[0;32m     11\u001b[0m     sparse\u001b[38;5;241m=\u001b[39m\u001b[38;5;28;01mTrue\u001b[39;00m,\n\u001b[0;32m     12\u001b[0m     dtype\u001b[38;5;241m=\u001b[39mtf\u001b[38;5;241m.\u001b[39mfloat32,\n\u001b[0;32m     13\u001b[0m     name\u001b[38;5;241m=\u001b[39m\u001b[38;5;124m\"\u001b[39m\u001b[38;5;124mA_in\u001b[39m\u001b[38;5;124m\"\u001b[39m,\n\u001b[0;32m     14\u001b[0m )\n\u001b[0;32m     16\u001b[0m \u001b[38;5;66;03m# First GNN layer\u001b[39;00m\n\u001b[1;32m---> 17\u001b[0m x \u001b[38;5;241m=\u001b[39m \u001b[43mGINConv\u001b[49m\u001b[43m(\u001b[49m\n\u001b[0;32m     18\u001b[0m \u001b[43m    \u001b[49m\u001b[38;5;241;43m64\u001b[39;49m\u001b[43m,\u001b[49m\n\u001b[0;32m     19\u001b[0m \u001b[43m    \u001b[49m\u001b[43mactivation\u001b[49m\u001b[38;5;241;43m=\u001b[39;49m\u001b[38;5;124;43m\"\u001b[39;49m\u001b[38;5;124;43mrelu\u001b[39;49m\u001b[38;5;124;43m\"\u001b[39;49m\u001b[43m,\u001b[49m\n\u001b[0;32m     20\u001b[0m \u001b[43m    \u001b[49m\u001b[43mkernel_regularizer\u001b[49m\u001b[38;5;241;43m=\u001b[39;49m\u001b[43ml2\u001b[49m\u001b[43m(\u001b[49m\u001b[43ml2_reg\u001b[49m\u001b[43m)\u001b[49m\n\u001b[0;32m     21\u001b[0m \u001b[43m)\u001b[49m\u001b[43m(\u001b[49m\u001b[43m[\u001b[49m\u001b[43mX_in\u001b[49m\u001b[43m,\u001b[49m\u001b[43m \u001b[49m\u001b[43mA_in\u001b[49m\u001b[43m]\u001b[49m\u001b[43m)\u001b[49m\n\u001b[0;32m     22\u001b[0m x \u001b[38;5;241m=\u001b[39m BatchNormalization()(x)\n\u001b[0;32m     23\u001b[0m x \u001b[38;5;241m=\u001b[39m Dropout(\u001b[38;5;241m0.3\u001b[39m)(x)\n",
      "File \u001b[1;32mc:\\Users\\Dell\\AppData\\Local\\Programs\\Python\\Python310\\lib\\site-packages\\keras\\src\\utils\\traceback_utils.py:122\u001b[0m, in \u001b[0;36mfilter_traceback.<locals>.error_handler\u001b[1;34m(*args, **kwargs)\u001b[0m\n\u001b[0;32m    119\u001b[0m     filtered_tb \u001b[38;5;241m=\u001b[39m _process_traceback_frames(e\u001b[38;5;241m.\u001b[39m__traceback__)\n\u001b[0;32m    120\u001b[0m     \u001b[38;5;66;03m# To get the full stack trace, call:\u001b[39;00m\n\u001b[0;32m    121\u001b[0m     \u001b[38;5;66;03m# `keras.config.disable_traceback_filtering()`\u001b[39;00m\n\u001b[1;32m--> 122\u001b[0m     \u001b[38;5;28;01mraise\u001b[39;00m e\u001b[38;5;241m.\u001b[39mwith_traceback(filtered_tb) \u001b[38;5;28;01mfrom\u001b[39;00m\u001b[38;5;250m \u001b[39m\u001b[38;5;28;01mNone\u001b[39;00m\n\u001b[0;32m    123\u001b[0m \u001b[38;5;28;01mfinally\u001b[39;00m:\n\u001b[0;32m    124\u001b[0m     \u001b[38;5;28;01mdel\u001b[39;00m filtered_tb\n",
      "File \u001b[1;32mc:\\Users\\Dell\\AppData\\Local\\Programs\\Python\\Python310\\lib\\site-packages\\spektral\\layers\\convolutional\\gin_conv.py:130\u001b[0m, in \u001b[0;36mGINConv.call\u001b[1;34m(self, inputs, **kwargs)\u001b[0m\n\u001b[0;32m    129\u001b[0m \u001b[38;5;28;01mdef\u001b[39;00m\u001b[38;5;250m \u001b[39m\u001b[38;5;21mcall\u001b[39m(\u001b[38;5;28mself\u001b[39m, inputs, \u001b[38;5;241m*\u001b[39m\u001b[38;5;241m*\u001b[39mkwargs):\n\u001b[1;32m--> 130\u001b[0m     x, a, _ \u001b[38;5;241m=\u001b[39m \u001b[38;5;28;43mself\u001b[39;49m\u001b[38;5;241;43m.\u001b[39;49m\u001b[43mget_inputs\u001b[49m\u001b[43m(\u001b[49m\u001b[43minputs\u001b[49m\u001b[43m)\u001b[49m\n\u001b[0;32m    131\u001b[0m     output \u001b[38;5;241m=\u001b[39m \u001b[38;5;28mself\u001b[39m\u001b[38;5;241m.\u001b[39mmlp((\u001b[38;5;28mself\u001b[39m\u001b[38;5;241m.\u001b[39mone \u001b[38;5;241m+\u001b[39m \u001b[38;5;28mself\u001b[39m\u001b[38;5;241m.\u001b[39meps) \u001b[38;5;241m*\u001b[39m x \u001b[38;5;241m+\u001b[39m \u001b[38;5;28mself\u001b[39m\u001b[38;5;241m.\u001b[39mpropagate(x, a))\n\u001b[0;32m    133\u001b[0m     \u001b[38;5;28;01mreturn\u001b[39;00m output\n",
      "File \u001b[1;32mc:\\Users\\Dell\\AppData\\Local\\Programs\\Python\\Python310\\lib\\site-packages\\spektral\\layers\\convolutional\\message_passing.py:184\u001b[0m, in \u001b[0;36mMessagePassing.get_inputs\u001b[1;34m(inputs)\u001b[0m\n\u001b[0;32m    182\u001b[0m \u001b[38;5;28;01massert\u001b[39;00m K\u001b[38;5;241m.\u001b[39mndim(x) \u001b[38;5;129;01min\u001b[39;00m (\u001b[38;5;241m2\u001b[39m, \u001b[38;5;241m3\u001b[39m), \u001b[38;5;124m\"\u001b[39m\u001b[38;5;124mX must have rank 2 or 3\u001b[39m\u001b[38;5;124m\"\u001b[39m\n\u001b[0;32m    183\u001b[0m \u001b[38;5;28;01massert\u001b[39;00m K\u001b[38;5;241m.\u001b[39mis_sparse(a), \u001b[38;5;124m\"\u001b[39m\u001b[38;5;124mA must be a SparseTensor\u001b[39m\u001b[38;5;124m\"\u001b[39m\n\u001b[1;32m--> 184\u001b[0m \u001b[38;5;28;01massert\u001b[39;00m K\u001b[38;5;241m.\u001b[39mndim(a) \u001b[38;5;241m==\u001b[39m \u001b[38;5;241m2\u001b[39m, \u001b[38;5;124m\"\u001b[39m\u001b[38;5;124mA must have rank 2\u001b[39m\u001b[38;5;124m\"\u001b[39m\n\u001b[0;32m    186\u001b[0m \u001b[38;5;28;01mreturn\u001b[39;00m x, a, e\n",
      "\u001b[1;31mAssertionError\u001b[0m: Exception encountered when calling GINConv.call().\n\n\u001b[1mCould not automatically infer the output shape / dtype of 'gin_conv_4' (of type GINConv). Either the `GINConv.call()` method is incorrect, or you need to implement the `GINConv.compute_output_spec() / compute_output_shape()` method. Error encountered:\n\nA must have rank 2\u001b[0m\n\nArguments received by GINConv.call():\n  • args=(['<KerasTensor shape=(None, 468, 2), dtype=float32, sparse=False, ragged=False, name=X_in>', '<KerasTensor shape=(None, 468, 468), dtype=float32, sparse=True, ragged=False, name=A_in>'],)\n  • kwargs=<class 'inspect._empty'>"
     ]
    }
   ],
   "source": [
    "from tensorflow.keras import Input, Model\n",
    "from spektral.layers import GINConv\n",
    "import tensorflow as tf\n",
    "\n",
    "# Node features\n",
    "X_in = Input(shape=(N, F), name=\"X_in\")\n",
    "\n",
    "# Adjacency matrix as a *sparse* input\n",
    "A_in = Input(\n",
    "    shape=(N, N),\n",
    "    sparse=True,\n",
    "    dtype=tf.float32,\n",
    "    name=\"A_in\",\n",
    ")\n",
    "\n",
    "# First GNN layer\n",
    "x = GINConv(\n",
    "    64,\n",
    "    activation=\"relu\",\n",
    "    kernel_regularizer=l2(l2_reg)\n",
    ")([X_in, A_in])\n",
    "x = BatchNormalization()(x)\n",
    "x = Dropout(0.3)(x)\n",
    "\n",
    "# Second GNN layer\n",
    "x = GINConv(\n",
    "    32,\n",
    "    activation=\"relu\",\n",
    "    kernel_regularizer=l2(l2_reg)\n",
    ")([x, A_in])\n",
    "x = BatchNormalization()(x)\n",
    "x = Dropout(0.3)(x)\n",
    "\n",
    "# … the rest is the same …\n",
    "x = Flatten()(x)\n",
    "x = Dense(256, activation=\"relu\", kernel_regularizer=l2(l2_reg))(x)\n",
    "x = BatchNormalization()(x)\n",
    "x = Dropout(0.5)(x)\n",
    "x = Dense(128, activation=\"relu\", kernel_regularizer=l2(l2_reg))(x)\n",
    "x = BatchNormalization()(x)\n",
    "x = Dropout(0.3)(x)\n",
    "output = Dense(n_out, activation=\"softmax\", name=\"emotion_output\")(x)\n",
    "\n",
    "# **Don’t forget** to include both inputs in the Model!\n",
    "model = Model(inputs=[X_in, A_in], outputs=output)\n",
    "model.compile(\n",
    "    optimizer=Adam(learning_rate=learning_rate),\n",
    "    loss=\"sparse_categorical_crossentropy\",\n",
    "    metrics=[\"accuracy\"],\n",
    ")\n",
    "model.summary()\n"
   ]
  },
  {
   "cell_type": "code",
   "execution_count": 8,
   "metadata": {},
   "outputs": [
    {
     "name": "stdout",
     "output_type": "stream",
     "text": [
      "Starting training...\n",
      "Epoch 1/25\n",
      "\u001b[1m971/971\u001b[0m \u001b[32m━━━━━━━━━━━━━━━━━━━━\u001b[0m\u001b[37m\u001b[0m \u001b[1m43s\u001b[0m 42ms/step - accuracy: 0.3178 - loss: 2.3213 - val_accuracy: 0.4602 - val_loss: 1.7662\n",
      "Epoch 2/25\n",
      "\u001b[1m971/971\u001b[0m \u001b[32m━━━━━━━━━━━━━━━━━━━━\u001b[0m\u001b[37m\u001b[0m \u001b[1m40s\u001b[0m 41ms/step - accuracy: 0.4339 - loss: 1.8443 - val_accuracy: 0.4361 - val_loss: 1.8030\n",
      "Epoch 3/25\n",
      "\u001b[1m971/971\u001b[0m \u001b[32m━━━━━━━━━━━━━━━━━━━━\u001b[0m\u001b[37m\u001b[0m \u001b[1m53s\u001b[0m 54ms/step - accuracy: 0.4557 - loss: 1.7329 - val_accuracy: 0.4769 - val_loss: 1.6532\n",
      "Epoch 4/25\n",
      "\u001b[1m971/971\u001b[0m \u001b[32m━━━━━━━━━━━━━━━━━━━━\u001b[0m\u001b[37m\u001b[0m \u001b[1m59s\u001b[0m 60ms/step - accuracy: 0.4629 - loss: 1.7095 - val_accuracy: 0.4648 - val_loss: 1.6702\n",
      "Epoch 5/25\n",
      "\u001b[1m971/971\u001b[0m \u001b[32m━━━━━━━━━━━━━━━━━━━━\u001b[0m\u001b[37m\u001b[0m \u001b[1m60s\u001b[0m 61ms/step - accuracy: 0.4599 - loss: 1.7143 - val_accuracy: 0.4295 - val_loss: 1.7442\n",
      "Epoch 6/25\n",
      "\u001b[1m971/971\u001b[0m \u001b[32m━━━━━━━━━━━━━━━━━━━━\u001b[0m\u001b[37m\u001b[0m \u001b[1m59s\u001b[0m 61ms/step - accuracy: 0.4622 - loss: 1.7039 - val_accuracy: 0.4776 - val_loss: 1.6362\n",
      "Epoch 7/25\n",
      "\u001b[1m971/971\u001b[0m \u001b[32m━━━━━━━━━━━━━━━━━━━━\u001b[0m\u001b[37m\u001b[0m \u001b[1m59s\u001b[0m 61ms/step - accuracy: 0.4597 - loss: 1.6893 - val_accuracy: 0.4087 - val_loss: 1.8092\n",
      "Epoch 8/25\n",
      "\u001b[1m971/971\u001b[0m \u001b[32m━━━━━━━━━━━━━━━━━━━━\u001b[0m\u001b[37m\u001b[0m \u001b[1m59s\u001b[0m 60ms/step - accuracy: 0.4626 - loss: 1.6908 - val_accuracy: 0.3541 - val_loss: 1.9469\n",
      "Epoch 9/25\n",
      "\u001b[1m971/971\u001b[0m \u001b[32m━━━━━━━━━━━━━━━━━━━━\u001b[0m\u001b[37m\u001b[0m \u001b[1m45s\u001b[0m 46ms/step - accuracy: 0.4650 - loss: 1.6745 - val_accuracy: 0.4741 - val_loss: 1.6307\n",
      "Epoch 10/25\n",
      "\u001b[1m971/971\u001b[0m \u001b[32m━━━━━━━━━━━━━━━━━━━━\u001b[0m\u001b[37m\u001b[0m \u001b[1m55s\u001b[0m 56ms/step - accuracy: 0.4660 - loss: 1.6719 - val_accuracy: 0.4941 - val_loss: 1.5701\n",
      "Epoch 11/25\n",
      "\u001b[1m971/971\u001b[0m \u001b[32m━━━━━━━━━━━━━━━━━━━━\u001b[0m\u001b[37m\u001b[0m \u001b[1m56s\u001b[0m 57ms/step - accuracy: 0.4640 - loss: 1.6591 - val_accuracy: 0.4826 - val_loss: 1.6237\n",
      "Epoch 12/25\n",
      "\u001b[1m971/971\u001b[0m \u001b[32m━━━━━━━━━━━━━━━━━━━━\u001b[0m\u001b[37m\u001b[0m \u001b[1m82s\u001b[0m 57ms/step - accuracy: 0.4697 - loss: 1.6622 - val_accuracy: 0.4275 - val_loss: 1.7302\n",
      "Epoch 13/25\n",
      "\u001b[1m971/971\u001b[0m \u001b[32m━━━━━━━━━━━━━━━━━━━━\u001b[0m\u001b[37m\u001b[0m \u001b[1m56s\u001b[0m 57ms/step - accuracy: 0.4703 - loss: 1.6423 - val_accuracy: 0.4265 - val_loss: 1.7295\n",
      "Epoch 14/25\n",
      "\u001b[1m971/971\u001b[0m \u001b[32m━━━━━━━━━━━━━━━━━━━━\u001b[0m\u001b[37m\u001b[0m \u001b[1m57s\u001b[0m 59ms/step - accuracy: 0.4701 - loss: 1.6428 - val_accuracy: 0.4468 - val_loss: 1.6622\n",
      "Epoch 15/25\n",
      "\u001b[1m971/971\u001b[0m \u001b[32m━━━━━━━━━━━━━━━━━━━━\u001b[0m\u001b[37m\u001b[0m \u001b[1m82s\u001b[0m 58ms/step - accuracy: 0.4692 - loss: 1.6238 - val_accuracy: 0.4183 - val_loss: 1.7021\n",
      "Epoch 16/25\n",
      "\u001b[1m971/971\u001b[0m \u001b[32m━━━━━━━━━━━━━━━━━━━━\u001b[0m\u001b[37m\u001b[0m \u001b[1m57s\u001b[0m 58ms/step - accuracy: 0.4721 - loss: 1.6267 - val_accuracy: 0.4070 - val_loss: 1.7695\n",
      "Epoch 17/25\n",
      "\u001b[1m971/971\u001b[0m \u001b[32m━━━━━━━━━━━━━━━━━━━━\u001b[0m\u001b[37m\u001b[0m \u001b[1m56s\u001b[0m 58ms/step - accuracy: 0.4688 - loss: 1.6091 - val_accuracy: 0.4753 - val_loss: 1.5906\n",
      "Epoch 18/25\n",
      "\u001b[1m971/971\u001b[0m \u001b[32m━━━━━━━━━━━━━━━━━━━━\u001b[0m\u001b[37m\u001b[0m \u001b[1m56s\u001b[0m 58ms/step - accuracy: 0.4746 - loss: 1.5930 - val_accuracy: 0.4839 - val_loss: 1.5389\n",
      "Epoch 19/25\n",
      "\u001b[1m971/971\u001b[0m \u001b[32m━━━━━━━━━━━━━━━━━━━━\u001b[0m\u001b[37m\u001b[0m \u001b[1m43s\u001b[0m 44ms/step - accuracy: 0.4784 - loss: 1.5780 - val_accuracy: 0.5015 - val_loss: 1.4954\n",
      "Epoch 20/25\n",
      "\u001b[1m971/971\u001b[0m \u001b[32m━━━━━━━━━━━━━━━━━━━━\u001b[0m\u001b[37m\u001b[0m \u001b[1m40s\u001b[0m 41ms/step - accuracy: 0.4794 - loss: 1.5710 - val_accuracy: 0.4785 - val_loss: 1.5440\n",
      "Epoch 21/25\n",
      "\u001b[1m971/971\u001b[0m \u001b[32m━━━━━━━━━━━━━━━━━━━━\u001b[0m\u001b[37m\u001b[0m \u001b[1m41s\u001b[0m 42ms/step - accuracy: 0.4735 - loss: 1.5835 - val_accuracy: 0.4254 - val_loss: 1.6528\n",
      "Epoch 22/25\n",
      "\u001b[1m971/971\u001b[0m \u001b[32m━━━━━━━━━━━━━━━━━━━━\u001b[0m\u001b[37m\u001b[0m \u001b[1m38s\u001b[0m 39ms/step - accuracy: 0.4767 - loss: 1.5835 - val_accuracy: 0.4891 - val_loss: 1.5424\n",
      "Epoch 23/25\n",
      "\u001b[1m971/971\u001b[0m \u001b[32m━━━━━━━━━━━━━━━━━━━━\u001b[0m\u001b[37m\u001b[0m \u001b[1m38s\u001b[0m 39ms/step - accuracy: 0.4804 - loss: 1.5737 - val_accuracy: 0.4152 - val_loss: 1.6898\n",
      "Epoch 24/25\n",
      "\u001b[1m971/971\u001b[0m \u001b[32m━━━━━━━━━━━━━━━━━━━━\u001b[0m\u001b[37m\u001b[0m \u001b[1m40s\u001b[0m 41ms/step - accuracy: 0.4761 - loss: 1.5674 - val_accuracy: 0.5178 - val_loss: 1.4635\n",
      "Epoch 25/25\n",
      "\u001b[1m971/971\u001b[0m \u001b[32m━━━━━━━━━━━━━━━━━━━━\u001b[0m\u001b[37m\u001b[0m \u001b[1m39s\u001b[0m 40ms/step - accuracy: 0.4772 - loss: 1.5588 - val_accuracy: 0.4660 - val_loss: 1.5674\n",
      "Training completed!\n"
     ]
    }
   ],
   "source": [
    "# Train the model\n",
    "print(\"Starting training...\")\n",
    "history = model.fit(\n",
    "    X_train_tensor,\n",
    "    y_train_tensor,\n",
    "    batch_size=batch_size,\n",
    "    validation_data=(X_val_tensor, y_val_tensor),\n",
    "    epochs=epochs*5,\n",
    "    callbacks=[EarlyStopping(patience=es_patience, restore_best_weights=True)],\n",
    "    verbose=1\n",
    ")\n",
    "print(\"Training completed!\")\n"
   ]
  },
  {
   "cell_type": "code",
   "execution_count": 9,
   "metadata": {},
   "outputs": [
    {
     "name": "stdout",
     "output_type": "stream",
     "text": [
      "\n",
      "Evaluating on test set...\n",
      "Test Loss: 1.4855\n",
      "Test Accuracy: 0.5144\n"
     ]
    },
    {
     "data": {
      "image/png": "[encoded data removed]",
      "text/plain": [
       "<Figure size 1200x400 with 2 Axes>"
      ]
     },
     "metadata": {},
     "output_type": "display_data"
    }
   ],
   "source": [
    "# Evaluate on test set\n",
    "print(\"\\nEvaluating on test set...\")\n",
    "test_loss, test_accuracy = model.evaluate(X_test_tensor, y_test_tensor, verbose=0)\n",
    "print(f\"Test Loss: {test_loss:.4f}\")\n",
    "print(f\"Test Accuracy: {test_accuracy:.4f}\")\n",
    "\n",
    "# Plot training history\n",
    "import matplotlib.pyplot as plt\n",
    "\n",
    "plt.figure(figsize=(12, 4))\n",
    "\n",
    "plt.subplot(1, 2, 1)\n",
    "plt.plot(history.history['loss'], label='Training Loss')\n",
    "plt.plot(history.history['val_loss'], label='Validation Loss')\n",
    "plt.title('Model Loss')\n",
    "plt.xlabel('Epoch')\n",
    "plt.ylabel('Loss')\n",
    "plt.legend()\n",
    "\n",
    "plt.subplot(1, 2, 2)\n",
    "plt.plot(history.history['accuracy'], label='Training Accuracy')\n",
    "plt.plot(history.history['val_accuracy'], label='Validation Accuracy')\n",
    "plt.title('Model Accuracy')\n",
    "plt.xlabel('Epoch')\n",
    "plt.ylabel('Accuracy')\n",
    "plt.legend()\n",
    "\n",
    "plt.tight_layout()\n",
    "plt.show()\n"
   ]
  },
  {
   "cell_type": "code",
   "execution_count": null,
   "metadata": {},
   "outputs": [
    {
     "name": "stdout",
     "output_type": "stream",
     "text": [
      "Requirement already satisfied: onnx in c:\\users\\dell\\appdata\\local\\programs\\python\\python310\\lib\\site-packages (1.18.0)\n",
      "Requirement already satisfied: onnxruntime in c:\\users\\dell\\appdata\\local\\programs\\python\\python310\\lib\\site-packages (1.22.1)\n",
      "Requirement already satisfied: tf2onnx in c:\\users\\dell\\appdata\\local\\programs\\python\\python310\\lib\\site-packages (1.14.0)\n",
      "Requirement already satisfied: numpy>=1.22 in c:\\users\\dell\\appdata\\local\\programs\\python\\python310\\lib\\site-packages (from onnx) (1.26.4)\n",
      "Requirement already satisfied: protobuf>=4.25.1 in c:\\users\\dell\\appdata\\local\\programs\\python\\python310\\lib\\site-packages (from onnx) (4.25.8)\n",
      "Requirement already satisfied: typing_extensions>=4.7.1 in c:\\users\\dell\\appdata\\roaming\\python\\python310\\site-packages (from onnx) (4.14.0)\n",
      "Requirement already satisfied: packaging in c:\\users\\dell\\appdata\\roaming\\python\\python310\\site-packages (from onnxruntime) (25.0)\n",
      "Requirement already satisfied: coloredlogs in c:\\users\\dell\\appdata\\local\\programs\\python\\python310\\lib\\site-packages (from onnxruntime) (15.0.1)\n",
      "Requirement already satisfied: flatbuffers in c:\\users\\dell\\appdata\\local\\programs\\python\\python310\\lib\\site-packages (from onnxruntime) (2.0.7)\n",
      "Requirement already satisfied: sympy in c:\\users\\dell\\appdata\\local\\programs\\python\\python310\\lib\\site-packages (from onnxruntime) (1.14.0)\n",
      "Requirement already satisfied: six in c:\\users\\dell\\appdata\\roaming\\python\\python310\\site-packages (from tf2onnx) (1.17.0)\n",
      "Requirement already satisfied: requests in c:\\users\\dell\\appdata\\local\\programs\\python\\python310\\lib\\site-packages (from tf2onnx) (2.32.4)\n",
      "Requirement already satisfied: humanfriendly>=9.1 in c:\\users\\dell\\appdata\\local\\programs\\python\\python310\\lib\\site-packages (from coloredlogs->onnxruntime) (10.0)\n",
      "Requirement already satisfied: pyreadline3 in c:\\users\\dell\\appdata\\local\\programs\\python\\python310\\lib\\site-packages (from humanfriendly>=9.1->coloredlogs->onnxruntime) (3.5.4)\n",
      "Requirement already satisfied: charset_normalizer<4,>=2 in c:\\users\\dell\\appdata\\local\\programs\\python\\python310\\lib\\site-packages (from requests->tf2onnx) (3.4.2)\n",
      "Requirement already satisfied: idna<4,>=2.5 in c:\\users\\dell\\appdata\\local\\programs\\python\\python310\\lib\\site-packages (from requests->tf2onnx) (3.10)\n",
      "Requirement already satisfied: urllib3<3,>=1.21.1 in c:\\users\\dell\\appdata\\local\\programs\\python\\python310\\lib\\site-packages (from requests->tf2onnx) (2.5.0)\n",
      "Requirement already satisfied: certifi>=2017.4.17 in c:\\users\\dell\\appdata\\local\\programs\\python\\python310\\lib\\site-packages (from requests->tf2onnx) (2025.7.14)\n",
      "Requirement already satisfied: mpmath<1.4,>=1.1.0 in c:\\users\\dell\\appdata\\local\\programs\\python\\python310\\lib\\site-packages (from sympy->onnxruntime) (1.3.0)\n"
     ]
    },
    {
     "name": "stderr",
     "output_type": "stream",
     "text": [
      "WARNING: You are using pip version 21.2.3; however, version 25.1.1 is available.\n",
      "You should consider upgrading via the 'C:\\Users\\Dell\\AppData\\Local\\Programs\\Python\\Python310\\python.exe -m pip install --upgrade pip' command.\n"
     ]
    }
   ],
   "source": []
  },
  {
   "cell_type": "code",
   "execution_count": 10,
   "metadata": {},
   "outputs": [],
   "source": [
    "model.save_weights(\"gnn_face_emotion2.weights.h5\")\n"
   ]
  },
  {
   "cell_type": "code",
   "execution_count": 8,
   "metadata": {},
   "outputs": [],
   "source": [
    "import tensorflow as tf\n",
    "from tensorflow.keras import Input, Model\n",
    "from tensorflow.keras.layers import Dense, Flatten, BatchNormalization, Dropout\n",
    "from tensorflow.keras.optimizers import Adam\n",
    "from tensorflow.keras.regularizers import l2\n",
    "from spektral.layers import GINConv\n",
    "from spektral.utils.sparse import sp_matrix_to_sp_tensor\n",
    "import scipy.sparse\n",
    "import numpy as np\n",
    "\n",
    "# Function to compute adjacency and sparse tensor\n",
    "\n",
    "def get_mediapipe_adj_tensor():\n",
    "    adj = get_mediapipe_adjacency_matrix()  # your existing function\n",
    "    adj_sp = scipy.sparse.csr_matrix(adj)\n",
    "    return sp_matrix_to_sp_tensor(adj_sp)\n",
    "\n",
    "# Build function\n",
    "def build_gnn_face_emotion_model(\n",
    "    N: int,\n",
    "    F: int,\n",
    "    n_out: int,\n",
    "    l2_reg: float = 5e-4,\n",
    "    learning_rate: float = 1e-3\n",
    ") -> tf.keras.Model:\n",
    "    \"\"\"\n",
    "    Builds and compiles the GNN face emotion classification model.\n",
    "\n",
    "    Args:\n",
    "        N: Number of nodes (e.g., 468).\n",
    "        F: Feature dimensionality per node (e.g., 2 for x, y).\n",
    "        n_out: Number of emotion classes.\n",
    "        l2_reg: L2 regularization factor.\n",
    "        learning_rate: Learning rate for the Adam optimizer.\n",
    "\n",
    "    Returns:\n",
    "        A compiled tf.keras.Model instance.\n",
    "    \"\"\"\n",
    "    # Prepare adjacency as sparse tensor\n",
    "    adj_tensor = get_mediapipe_adj_tensor()\n",
    "\n",
    "    # Input for node features\n",
    "    X_in = Input(shape=(N, F), name='node_features')\n",
    "\n",
    "    # First GNN block\n",
    "    x = GINConv(64, activation='relu', kernel_regularizer=l2(l2_reg))([X_in, adj_tensor])\n",
    "    x = BatchNormalization()(x)\n",
    "    x = Dropout(0.3)(x)\n",
    "\n",
    "    # Second GNN block\n",
    "    x = GINConv(32, activation='relu', kernel_regularizer=l2(l2_reg))([x, adj_tensor])\n",
    "    x = BatchNormalization()(x)\n",
    "    x = Dropout(0.3)(x)\n",
    "\n",
    "    # Global pooling (flatten)\n",
    "    x = Flatten()(x)\n",
    "\n",
    "    # Dense layers\n",
    "    x = Dense(256, activation='relu', kernel_regularizer=l2(l2_reg))(x)\n",
    "    x = BatchNormalization()(x)\n",
    "    x = Dropout(0.5)(x)\n",
    "\n",
    "    x = Dense(128, activation='relu', kernel_regularizer=l2(l2_reg))(x)\n",
    "    x = BatchNormalization()(x)\n",
    "    x = Dropout(0.3)(x)\n",
    "\n",
    "    # Output\n",
    "    output = Dense(n_out, activation='softmax', name='emotion_output')(x)\n",
    "\n",
    "    # Model\n",
    "    model = Model(inputs=X_in, outputs=output)\n",
    "    optimizer = Adam(learning_rate=learning_rate)\n",
    "    model.compile(\n",
    "        optimizer=optimizer,\n",
    "        loss='sparse_categorical_crossentropy',\n",
    "        metrics=['accuracy']\n",
    "    )\n",
    "    return model\n",
    "\n",
    "# Example usage:\n",
    "# model = build_gnn_face_emotion_model(N=468, F=2, n_out=6)\n",
    "# model.summary()\n"
   ]
  },
  {
   "cell_type": "code",
   "execution_count": 9,
   "metadata": {},
   "outputs": [
    {
     "name": "stdout",
     "output_type": "stream",
     "text": [
      "WARNING:tensorflow:From c:\\Users\\Dell\\AppData\\Local\\Programs\\Python\\Python310\\lib\\site-packages\\keras\\src\\backend\\tensorflow\\core.py:232: The name tf.placeholder is deprecated. Please use tf.compat.v1.placeholder instead.\n",
      "\n"
     ]
    },
    {
     "name": "stderr",
     "output_type": "stream",
     "text": [
      "c:\\Users\\Dell\\AppData\\Local\\Programs\\Python\\Python310\\lib\\site-packages\\keras\\src\\saving\\saving_lib.py:802: UserWarning: Skipping variable loading for optimizer 'adam', because it has 2 variables whereas the saved optimizer has 42 variables. \n",
      "  saveable.load_own_variables(weights_store.get(inner_path))\n"
     ]
    }
   ],
   "source": [
    "# (Re)define your `build_model()` exactly as you did originally,\n",
    "# including the `get_mediapipe_adjacency_matrix() + sp_matrix_to_sp_tensor` call.\n",
    "model = build_gnn_face_emotion_model(N=468, F=2, n_out=6)  \n",
    "model.load_weights(\"gnn_face_emotion2.weights.h5\")"
   ]
  },
  {
   "cell_type": "code",
   "execution_count": null,
   "metadata": {},
   "outputs": [
    {
     "name": "stdout",
     "output_type": "stream",
     "text": [
      "Loading trained GNN model...\n",
      "❌ Error loading model: No module named 'model_utils'\n",
      "Make sure 'emotion_gnn_model.h5' exists and was trained with the GNN code.\n",
      "Creating adjacency matrix...\n",
      "Adjacency matrix shape: (468, 468)\n",
      "Number of edges: 1556\n",
      "Starting webcam...\n",
      "Press 'q' to quit, 's' to save current frame, 'r' to reset prediction history\n",
      "Number of landmarks detected: 468\n",
      "Number of landmarks detected: 468\n",
      "Number of landmarks detected: 468\n",
      "Number of landmarks detected: 468\n",
      "Number of landmarks detected: 468\n",
      "Number of landmarks detected: 468\n",
      "Number of landmarks detected: 468\n",
      "Number of landmarks detected: 468\n",
      "Number of landmarks detected: 468\n",
      "Number of landmarks detected: 468\n",
      "Number of landmarks detected: 468\n",
      "Number of landmarks detected: 468\n",
      "Number of landmarks detected: 468\n",
      "Number of landmarks detected: 468\n",
      "Number of landmarks detected: 468\n",
      "Number of landmarks detected: 468\n",
      "Number of landmarks detected: 468\n",
      "Number of landmarks detected: 468\n",
      "Number of landmarks detected: 468\n",
      "Number of landmarks detected: 468\n",
      "Number of landmarks detected: 468\n",
      "Number of landmarks detected: 468\n",
      "Number of landmarks detected: 468\n",
      "Number of landmarks detected: 468\n",
      "Number of landmarks detected: 468\n",
      "Number of landmarks detected: 468\n",
      "Number of landmarks detected: 468\n",
      "Number of landmarks detected: 468\n",
      "Number of landmarks detected: 468\n",
      "Number of landmarks detected: 468\n",
      "Number of landmarks detected: 468\n",
      "Number of landmarks detected: 468\n",
      "Number of landmarks detected: 468\n",
      "Number of landmarks detected: 468\n",
      "Number of landmarks detected: 468\n",
      "Number of landmarks detected: 468\n",
      "Number of landmarks detected: 468\n",
      "Number of landmarks detected: 468\n",
      "Number of landmarks detected: 468\n",
      "Number of landmarks detected: 468\n",
      "Number of landmarks detected: 468\n",
      "Number of landmarks detected: 468\n",
      "Number of landmarks detected: 468\n",
      "Number of landmarks detected: 468\n",
      "Number of landmarks detected: 468\n",
      "Number of landmarks detected: 468\n",
      "Number of landmarks detected: 468\n",
      "Number of landmarks detected: 468\n",
      "Number of landmarks detected: 468\n",
      "Number of landmarks detected: 468\n",
      "Number of landmarks detected: 468\n",
      "Number of landmarks detected: 468\n",
      "Number of landmarks detected: 468\n",
      "Number of landmarks detected: 468\n",
      "Shutting down...\n",
      "✅ Application closed successfully.\n"
     ]
    },
    {
     "ename": "",
     "evalue": "",
     "output_type": "error",
     "traceback": [
      "\u001b[1;31mThe Kernel crashed while executing code in the current cell or a previous cell. \n",
      "\u001b[1;31mPlease review the code in the cell(s) to identify a possible cause of the failure. \n",
      "\u001b[1;31mClick <a href='https://aka.ms/vscodeJupyterKernelCrash'>here</a> for more info. \n",
      "\u001b[1;31mView Jupyter <a href='command:jupyter.viewOutput'>log</a> for further details."
     ]
    }
   ],
   "source": [
    "import cv2\n",
    "import numpy as np\n",
    "import tensorflow as tf\n",
    "import mediapipe as mp\n",
    "from spektral.layers import GINConv\n",
    "from spektral.utils.sparse import sp_matrix_to_sp_tensor\n",
    "import scipy.sparse\n",
    "from mediapipe.python.solutions.face_mesh_connections import FACEMESH_TESSELATION\n",
    "import time\n",
    "\n",
    "def get_mediapipe_adjacency_matrix():\n",
    "    \"\"\"Create adjacency matrix from MediaPipe face mesh connections\"\"\"\n",
    "    # MediaPipe face mesh has 468 landmarks (without iris when refine_landmarks=False)\n",
    "    n_nodes = 468\n",
    "    adj_matrix = np.zeros((n_nodes, n_nodes), dtype=np.float32)\n",
    "    \n",
    "    # Add edges based on MediaPipe face mesh connections\n",
    "    for connection in FACEMESH_TESSELATION:\n",
    "        i, j = connection[0], connection[1]\n",
    "        if i < n_nodes and j < n_nodes:  # Ensure indices are valid for 468 landmarks\n",
    "            adj_matrix[i, j] = 1.0\n",
    "            adj_matrix[j, i] = 1.0  # Undirected graph\n",
    "    \n",
    "    # Add self-loops\n",
    "    np.fill_diagonal(adj_matrix, 1.0)\n",
    "    \n",
    "    return adj_matrix\n",
    "\n",
    "# --- Constants and Initializations ---\n",
    "# Define the emotion labels in the same order as your training data\n",
    "EMOTIONS = [\"Angry\", \"Disgusted\", \"Happy\", \"Neutral\", \"Sad\", \"Surprised\"]\n",
    "\n",
    "# Emotion colors for display (BGR format for OpenCV)\n",
    "EMOTION_COLORS = {\n",
    "    \"Angry\": (0, 0, 255),      # Red\n",
    "    \"Disgusted\": (0, 128, 0),  # Green\n",
    "    \"Happy\": (0, 255, 255),    # Yellow\n",
    "    \"Neutral\": (128, 128, 128), # Gray\n",
    "    \"Sad\": (255, 0, 0),        # Blue\n",
    "    \"Surprised\": (0, 165, 255) # Orange\n",
    "}\n",
    "\n",
    "# Load the trained model with improved method\n",
    "try:\n",
    "    print(\"Loading trained GNN model...\")\n",
    "    from model_utils import load_model_with_validation\n",
    "    model, metadata, adj_tensor_loaded = load_model_with_validation(\"emotion_gnn_model.h5\")\n",
    "    \n",
    "    if model is None:\n",
    "        print(\"❌ Could not load model. Make sure you've trained the model first.\")\n",
    "        exit()\n",
    "        \n",
    "    print(\"✅ Model loaded successfully.\")\n",
    "    print(f\"Model input shape: {model.input_shape}\")\n",
    "    print(f\"Model output shape: {model.output_shape}\")\n",
    "    \n",
    "except Exception as e:\n",
    "    print(f\"❌ Error loading model: {e}\")\n",
    "    print(\"Make sure 'emotion_gnn_model.h5' exists and was trained with the GNN code.\")\n",
    "    exit()\n",
    "\n",
    "# Initialize MediaPipe Face Mesh\n",
    "mp_face_mesh = mp.solutions.face_mesh\n",
    "mp_drawing = mp.solutions.drawing_utils\n",
    "face_mesh = mp_face_mesh.FaceMesh(\n",
    "    max_num_faces=1, \n",
    "    refine_landmarks=False,  # Use 468 landmarks (no iris)\n",
    "    min_detection_confidence=0.7, \n",
    "    min_tracking_confidence=0.5\n",
    ")\n",
    "\n",
    "# Create adjacency matrix for the model\n",
    "print(\"Creating adjacency matrix...\")\n",
    "adj_matrix = get_mediapipe_adjacency_matrix()\n",
    "adj_sparse = scipy.sparse.csr_matrix(adj_matrix)\n",
    "adj_tensor = sp_matrix_to_sp_tensor(adj_sparse)\n",
    "\n",
    "print(f\"Adjacency matrix shape: {adj_matrix.shape}\")\n",
    "print(f\"Number of edges: {np.sum(adj_matrix > 0) // 2}\")\n",
    "\n",
    "# Prediction smoothing\n",
    "prediction_history = []\n",
    "history_size = 5  # Number of frames to average for smoothing\n",
    "\n",
    "def normalize_mesh_points(mesh_points):\n",
    "    \"\"\"Normalize mesh points to match training data preprocessing\"\"\"\n",
    "    mesh_points = np.array(mesh_points, dtype=np.float32)\n",
    "    \n",
    "    # Center the points\n",
    "    center = np.mean(mesh_points, axis=0)\n",
    "    mesh_points = mesh_points - center\n",
    "    \n",
    "    # Scale to unit variance\n",
    "    scale = np.std(mesh_points)\n",
    "    if scale > 0:\n",
    "        mesh_points = mesh_points / scale\n",
    "    \n",
    "    return mesh_points\n",
    "\n",
    "def draw_prediction_bars(frame, predictions, current_emotion):\n",
    "    \"\"\"Draw probability bars for all emotions\"\"\"\n",
    "    bar_width = 200\n",
    "    bar_height = 25\n",
    "    start_x = 10\n",
    "    start_y = 80\n",
    "    \n",
    "    for i, (emotion, prob) in enumerate(zip(EMOTIONS, predictions[0])):\n",
    "        y_pos = start_y + i * (bar_height + 5)\n",
    "        \n",
    "        # Background bar\n",
    "        cv2.rectangle(frame, (start_x, y_pos), (start_x + bar_width, y_pos + bar_height), \n",
    "                     (50, 50, 50), -1)\n",
    "        \n",
    "        # Probability bar\n",
    "        fill_width = int(bar_width * prob)\n",
    "        color = EMOTION_COLORS[emotion] if emotion == current_emotion else (100, 100, 100)\n",
    "        cv2.rectangle(frame, (start_x, y_pos), (start_x + fill_width, y_pos + bar_height), \n",
    "                     color, -1)\n",
    "        \n",
    "        # Text label\n",
    "        cv2.putText(frame, f\"{emotion}: {prob:.1%}\", (start_x + bar_width + 10, y_pos + 18), \n",
    "                   cv2.FONT_HERSHEY_SIMPLEX, 0.6, (255, 255, 255), 1, cv2.LINE_AA)\n",
    "\n",
    "# --- Main Webcam Loop ---\n",
    "print(\"Starting webcam...\")\n",
    "print(\"Press 'q' to quit, 's' to save current frame, 'r' to reset prediction history\")\n",
    "\n",
    "cap = cv2.VideoCapture(0)\n",
    "\n",
    "if not cap.isOpened():\n",
    "    print(\"❌ Error: Could not open webcam.\")\n",
    "    exit()\n",
    "\n",
    "# Set camera properties for better performance\n",
    "cap.set(cv2.CAP_PROP_FRAME_WIDTH, 640)\n",
    "cap.set(cv2.CAP_PROP_FRAME_HEIGHT, 480)\n",
    "cap.set(cv2.CAP_PROP_FPS, 30)\n",
    "\n",
    "frame_count = 0\n",
    "fps_start_time = time.time()\n",
    "fps = 0\n",
    "\n",
    "while True:\n",
    "    ret, frame = cap.read()\n",
    "    if not ret:\n",
    "        print(\"Failed to grab frame\")\n",
    "        break\n",
    "\n",
    "    frame_count += 1\n",
    "    H, W, _ = frame.shape\n",
    "    \n",
    "    # Calculate FPS\n",
    "    if frame_count % 30 == 0:\n",
    "        fps_end_time = time.time()\n",
    "        fps = 30 / (fps_end_time - fps_start_time)\n",
    "        fps_start_time = fps_end_time\n",
    "\n",
    "    # Flip frame horizontally for mirror effect\n",
    "    frame = cv2.flip(frame, 1)\n",
    "    rgb_frame = cv2.cvtColor(frame, cv2.COLOR_BGR2RGB)\n",
    "    \n",
    "    # Process the frame with MediaPipe\n",
    "    results = face_mesh.process(rgb_frame)\n",
    "\n",
    "    if results.multi_face_landmarks:\n",
    "        # Use the landmarks of the first detected face\n",
    "        face_landmarks = results.multi_face_landmarks[0]\n",
    "        \n",
    "        # --- Extract and preprocess landmarks for the model ---\n",
    "        # 1. Extract X, Y coordinates\n",
    "        mesh_points = np.array(\n",
    "            [[p.x * W, p.y * H] for p in face_landmarks.landmark],\n",
    "            dtype=np.float32\n",
    "        )\n",
    "        \n",
    "        print(f\"Number of landmarks detected: {len(mesh_points)}\")  # Should be 468\n",
    "        \n",
    "        # 2. Normalize the landmarks (same as training)\n",
    "        normalized_points = normalize_mesh_points(mesh_points)\n",
    "        \n",
    "        # 3. Reshape for the model input (add batch dimension)\n",
    "        model_input = np.expand_dims(normalized_points, axis=0)\n",
    "        \n",
    "        try:\n",
    "            # --- Predict Emotion ---\n",
    "            prediction = model.predict(model_input, verbose=0)\n",
    "            \n",
    "            # Add to prediction history for smoothing\n",
    "            prediction_history.append(prediction[0])\n",
    "            if len(prediction_history) > history_size:\n",
    "                prediction_history.pop(0)\n",
    "            \n",
    "            # Average predictions for smoother results\n",
    "            smoothed_prediction = np.mean(prediction_history, axis=0)\n",
    "            emotion_index = np.argmax(smoothed_prediction)\n",
    "            emotion_label = EMOTIONS[emotion_index]\n",
    "            confidence = smoothed_prediction[emotion_index]\n",
    "            \n",
    "            # --- Display the result on the frame ---\n",
    "            # Draw face bounding box\n",
    "            x_min = int(np.min(mesh_points[:, 0])) - 20\n",
    "            y_min = int(np.min(mesh_points[:, 1])) - 20\n",
    "            x_max = int(np.max(mesh_points[:, 0])) + 20\n",
    "            y_max = int(np.max(mesh_points[:, 1])) + 20\n",
    "            \n",
    "            # Draw bounding box with emotion color\n",
    "            color = EMOTION_COLORS[emotion_label]\n",
    "            cv2.rectangle(frame, (x_min, y_min), (x_max, y_max), color, 3)\n",
    "            \n",
    "            # Display the emotion label and confidence\n",
    "            text = f\"{emotion_label}: {confidence:.1%}\"\n",
    "            text_size = cv2.getTextSize(text, cv2.FONT_HERSHEY_SIMPLEX, 1.0, 2)[0]\n",
    "            \n",
    "            # Background for text\n",
    "            cv2.rectangle(frame, (x_min, y_min - 40), \n",
    "                         (x_min + text_size[0] + 10, y_min), color, -1)\n",
    "            \n",
    "            # Text\n",
    "            cv2.putText(frame, text, (x_min + 5, y_min - 10), \n",
    "                       cv2.FONT_HERSHEY_SIMPLEX, 1.0, (255, 255, 255), 2, cv2.LINE_AA)\n",
    "            \n",
    "            # Draw face mesh (optional - can be disabled for better performance)\n",
    "            # mp_drawing.draw_landmarks(\n",
    "            #     frame, face_landmarks, mp_face_mesh.FACEMESH_CONTOURS,\n",
    "            #     landmark_drawing_spec=None,\n",
    "            #     connection_drawing_spec=mp_drawing.DrawingSpec(\n",
    "            #         color=(0, 255, 0), thickness=1, circle_radius=1)\n",
    "            # )\n",
    "            \n",
    "            # Draw prediction bars\n",
    "            draw_prediction_bars(frame, [smoothed_prediction], emotion_label)\n",
    "            \n",
    "        except Exception as e:\n",
    "            print(f\"Prediction error: {e}\")\n",
    "            cv2.putText(frame, \"Prediction Error\", (20, 40), \n",
    "                       cv2.FONT_HERSHEY_SIMPLEX, 1, (0, 0, 255), 2)\n",
    "\n",
    "    else:\n",
    "        cv2.putText(frame, \"No Face Detected\", (20, 40), \n",
    "                   cv2.FONT_HERSHEY_SIMPLEX, 1, (0, 0, 255), 2)\n",
    "        # Clear prediction history when no face is detected\n",
    "        prediction_history.clear()\n",
    "\n",
    "    # Display FPS\n",
    "    cv2.putText(frame, f\"FPS: {fps:.1f}\", (W - 120, 30), \n",
    "               cv2.FONT_HERSHEY_SIMPLEX, 0.7, (255, 255, 255), 2)\n",
    "    \n",
    "    # Display instructions\n",
    "    cv2.putText(frame, \"Press 'q' to quit, 'r' to reset\", (10, H - 20), \n",
    "               cv2.FONT_HERSHEY_SIMPLEX, 0.5, (255, 255, 255), 1)\n",
    "\n",
    "    # Show the final frame\n",
    "    cv2.imshow('Facial Emotion Recognition (GNN)', frame)\n",
    "\n",
    "    # Handle key presses\n",
    "    key = cv2.waitKey(1) & 0xFF\n",
    "    if key == ord('q'):\n",
    "        break\n",
    "    elif key == ord('r'):\n",
    "        prediction_history.clear()\n",
    "        print(\"Prediction history reset\")\n",
    "    elif key == ord('s'):\n",
    "        filename = f\"emotion_frame_{int(time.time())}.jpg\"\n",
    "        cv2.imwrite(filename, frame)\n",
    "        print(f\"Frame saved as {filename}\")\n",
    "\n",
    "print(\"Shutting down...\")\n",
    "\n",
    "# --- Cleanup ---\n",
    "cap.release()\n",
    "cv2.waitKey(1) \n",
    "cv2.destroyAllWindows()\n",
    "cv2.waitKey(1)\n",
    "face_mesh.close()\n",
    "\n",
    "print(\"✅ Application closed successfully.\")"
   ]
  },
  {
   "cell_type": "code",
   "execution_count": 3,
   "metadata": {},
   "outputs": [],
   "source": [
    "# Parameters\n",
    "l2_reg = 5e-4  # Regularization rate for l2\n",
    "learning_rate = 1e-3  # Learning rate for SGD\n",
    "batch_size = 32  # Batch size\n",
    "epochs = 5  # Number of training epochs\n",
    "es_patience = 200  # Patience fot early stopping"
   ]
  },
  {
   "cell_type": "code",
   "execution_count": 4,
   "metadata": {},
   "outputs": [],
   "source": [
    "RANDOM_SEED = 42\n",
    "\n",
    "np.random.seed(RANDOM_SEED)"
   ]
  },
  {
   "cell_type": "code",
   "execution_count": 5,
   "metadata": {},
   "outputs": [],
   "source": [
    "current_path = pathlib.Path().absolute()\n",
    "path = current_path.parent"
   ]
  },
  {
   "cell_type": "code",
   "execution_count": 6,
   "metadata": {},
   "outputs": [],
   "source": [
    "angry_path = path / 'angry_meshpoints'\n",
    "disgusted_path = path / 'disgusted_meshpoints'\n",
    "happy_path = path / 'happy_meshpoints'\n",
    "neutral_path = path / 'neutral_meshpoints'\n",
    "sad_path = path / 'sad_meshpoints'\n",
    "surprised_path = path / 'surprised_meshpoints'\n",
    "\n",
    "path_list = [angry_path, disgusted_path, happy_path, neutral_path, sad_path, surprised_path]"
   ]
  },
  {
   "cell_type": "code",
   "execution_count": 7,
   "metadata": {},
   "outputs": [],
   "source": [
    "def extrai_dist(path_list, meshs_list, limit=0.1):\n",
    "    for path in path_list:\n",
    "        quant_files = len(os.listdir(path))\n",
    "        count = 0\n",
    "        for file in os.listdir(path):\n",
    "            if (count / quant_files) > limit:\n",
    "                break\n",
    "            file_path = path / file\n",
    "            count += 1\n",
    "            with open(file_path, 'r') as f:\n",
    "                data = json.load(f)\n",
    "                meshs_list[path_list.index(path)].append(data)"
   ]
  },
  {
   "cell_type": "code",
   "execution_count": 8,
   "metadata": {},
   "outputs": [
    {
     "name": "stdout",
     "output_type": "stream",
     "text": [
      "22\n",
      "19\n",
      "22\n",
      "21\n",
      "21\n",
      "22\n"
     ]
    }
   ],
   "source": [
    "meshs_surprised = []\n",
    "meshs_disgusted = []\n",
    "meshs_happy = []\n",
    "meshs_neutral = []\n",
    "meshs_sad = []\n",
    "meshs_angry = []\n",
    "\n",
    "meshs_list = [meshs_angry, meshs_disgusted, meshs_happy, meshs_neutral, meshs_sad, meshs_surprised]\n",
    "\n",
    "extrai_dist(path_list, meshs_list, 1)\n",
    "\n",
    "print(len(meshs_angry))\n",
    "print(len(meshs_disgusted))\n",
    "print(len(meshs_happy))\n",
    "print(len(meshs_neutral))\n",
    "print(len(meshs_sad))\n",
    "print(len(meshs_surprised))"
   ]
  },
  {
   "cell_type": "code",
   "execution_count": 9,
   "metadata": {},
   "outputs": [
    {
     "name": "stdout",
     "output_type": "stream",
     "text": [
      "22\n",
      "19\n",
      "22\n",
      "21\n",
      "21\n",
      "22\n"
     ]
    }
   ],
   "source": [
    "for list in meshs_list:\n",
    "    print(len(list))"
   ]
  },
  {
   "cell_type": "code",
   "execution_count": 9,
   "metadata": {},
   "outputs": [],
   "source": [
    "# print(meshs_list)"
   ]
  },
  {
   "cell_type": "code",
   "execution_count": 10,
   "metadata": {},
   "outputs": [
    {
     "name": "stdout",
     "output_type": "stream",
     "text": [
      "6\n"
     ]
    }
   ],
   "source": [
    "print(len(meshs_list))"
   ]
  },
  {
   "cell_type": "code",
   "execution_count": 11,
   "metadata": {},
   "outputs": [],
   "source": [
    "# target list\n",
    "target_list = []\n",
    "for i in range(6):\n",
    "    target_list.append(np.full(len(meshs_list[i]), i))"
   ]
  },
  {
   "cell_type": "code",
   "execution_count": 12,
   "metadata": {},
   "outputs": [],
   "source": [
    "# print(target_list)"
   ]
  },
  {
   "cell_type": "code",
   "execution_count": 12,
   "metadata": {},
   "outputs": [
    {
     "name": "stdout",
     "output_type": "stream",
     "text": [
      "[0 1 2 3 4 5]\n"
     ]
    }
   ],
   "source": [
    "# print the unique target labels\n",
    "print(np.unique(np.concatenate(target_list)))"
   ]
  },
  {
   "cell_type": "code",
   "execution_count": 13,
   "metadata": {},
   "outputs": [
    {
     "ename": "ValueError",
     "evalue": "setting an array element with a sequence. The requested array has an inhomogeneous shape after 1 dimensions. The detected shape was (22,) + inhomogeneous part.",
     "output_type": "error",
     "traceback": [
      "\u001b[1;31m---------------------------------------------------------------------------\u001b[0m",
      "\u001b[1;31mValueError\u001b[0m                                Traceback (most recent call last)",
      "Cell \u001b[1;32mIn[13], line 2\u001b[0m\n\u001b[0;32m      1\u001b[0m \u001b[38;5;66;03m# concatena meshs_list em uma lista só\u001b[39;00m\n\u001b[1;32m----> 2\u001b[0m meshs_list_concat \u001b[38;5;241m=\u001b[39m \u001b[43mnp\u001b[49m\u001b[38;5;241;43m.\u001b[39;49m\u001b[43mconcatenate\u001b[49m\u001b[43m(\u001b[49m\u001b[43mmeshs_list\u001b[49m\u001b[43m)\u001b[49m\n\u001b[0;32m      3\u001b[0m target_list_concat \u001b[38;5;241m=\u001b[39m np\u001b[38;5;241m.\u001b[39mconcatenate(target_list)\n\u001b[0;32m      5\u001b[0m \u001b[38;5;28mprint\u001b[39m(\u001b[38;5;28mlen\u001b[39m(meshs_list_concat))\n",
      "\u001b[1;31mValueError\u001b[0m: setting an array element with a sequence. The requested array has an inhomogeneous shape after 1 dimensions. The detected shape was (22,) + inhomogeneous part."
     ]
    }
   ],
   "source": [
    "# concatena meshs_list em uma lista só\n",
    "meshs_list_concat = np.concatenate(meshs_list)\n",
    "target_list_concat = np.concatenate(target_list)\n",
    "\n",
    "print(len(meshs_list_concat))"
   ]
  },
  {
   "cell_type": "markdown",
   "metadata": {},
   "source": [
    "# Iniciando a construção do primeiro GINConv"
   ]
  },
  {
   "cell_type": "code",
   "execution_count": 14,
   "metadata": {},
   "outputs": [
    {
     "ename": "NameError",
     "evalue": "name 'meshs_list_concat' is not defined",
     "output_type": "error",
     "traceback": [
      "\u001b[1;31m---------------------------------------------------------------------------\u001b[0m",
      "\u001b[1;31mNameError\u001b[0m                                 Traceback (most recent call last)",
      "Cell \u001b[1;32mIn[14], line 5\u001b[0m\n\u001b[0;32m      1\u001b[0m \u001b[38;5;28;01mfrom\u001b[39;00m\u001b[38;5;250m \u001b[39m\u001b[38;5;21;01msklearn\u001b[39;00m\u001b[38;5;21;01m.\u001b[39;00m\u001b[38;5;21;01mmodel_selection\u001b[39;00m\u001b[38;5;250m \u001b[39m\u001b[38;5;28;01mimport\u001b[39;00m train_test_split\n\u001b[0;32m      4\u001b[0m \u001b[38;5;66;03m# Split the dataset into train and test sets, shuffling the data\u001b[39;00m\n\u001b[1;32m----> 5\u001b[0m X_train, X_test, y_train, y_test \u001b[38;5;241m=\u001b[39m train_test_split(\u001b[43mmeshs_list_concat\u001b[49m, target_list_concat, test_size\u001b[38;5;241m=\u001b[39m\u001b[38;5;241m0.2\u001b[39m, shuffle\u001b[38;5;241m=\u001b[39m\u001b[38;5;28;01mTrue\u001b[39;00m, random_state\u001b[38;5;241m=\u001b[39m\u001b[38;5;241m42\u001b[39m)\n\u001b[0;32m      7\u001b[0m \u001b[38;5;66;03m# Split the train set into train and validation sets\u001b[39;00m\n\u001b[0;32m      8\u001b[0m X_train, X_val, y_train, y_val \u001b[38;5;241m=\u001b[39m train_test_split(X_train, y_train, test_size\u001b[38;5;241m=\u001b[39m\u001b[38;5;241m0.2\u001b[39m, shuffle\u001b[38;5;241m=\u001b[39m\u001b[38;5;28;01mTrue\u001b[39;00m, random_state\u001b[38;5;241m=\u001b[39m\u001b[38;5;241m42\u001b[39m)\n",
      "\u001b[1;31mNameError\u001b[0m: name 'meshs_list_concat' is not defined"
     ]
    }
   ],
   "source": [
    "from sklearn.model_selection import train_test_split\n",
    "\n",
    "\n",
    "# Split the dataset into train and test sets, shuffling the data\n",
    "X_train, X_test, y_train, y_test = train_test_split(meshs_list_concat, target_list_concat, test_size=0.2, shuffle=True, random_state=42)\n",
    "\n",
    "# Split the train set into train and validation sets\n",
    "X_train, X_val, y_train, y_val = train_test_split(X_train, y_train, test_size=0.2, shuffle=True, random_state=42)"
   ]
  },
  {
   "cell_type": "code",
   "execution_count": 18,
   "metadata": {},
   "outputs": [],
   "source": [
    "# import concat from tensorflow\n",
    "from tensorflow import concat\n",
    "\n",
    "# tensor_mesh = concat(meshs_list, axis=0)\n",
    "# target_tensor = concat(target_list, axis=0)\n",
    "\n",
    "X__train_tensor = concat(X_train, axis=0)\n",
    "y__train_tensor = concat(y_train, axis=0)\n",
    "\n",
    "X__val_tensor = concat(X_val, axis=0)\n",
    "y__val_tensor = concat(y_val, axis=0)\n",
    "\n",
    "X__test_tensor = concat(X_test, axis=0)\n",
    "y__test_tensor = concat(y_test, axis=0)"
   ]
  },
  {
   "cell_type": "code",
   "execution_count": 19,
   "metadata": {},
   "outputs": [
    {
     "name": "stdout",
     "output_type": "stream",
     "text": [
      "Unique values in target tensor:\n",
      "[0 1 2 3 4 5]\n",
      "\n",
      "Unique values in target tensor:\n",
      "[0 1 2 3 4 5]\n",
      "\n",
      "Unique values in target tensor:\n",
      "[0 1 2 3 4 5]\n",
      "\n"
     ]
    }
   ],
   "source": [
    "for target_tensor in [y__train_tensor, y__val_tensor, y__test_tensor]:\n",
    "    unique_values = np.unique(target_tensor.numpy())\n",
    "    print(\"Unique values in target tensor:\")\n",
    "    print(unique_values)\n",
    "    print()"
   ]
  },
  {
   "cell_type": "code",
   "execution_count": 20,
   "metadata": {},
   "outputs": [
    {
     "data": {
      "text/plain": [
       "TensorShape([27968, 478, 2])"
      ]
     },
     "execution_count": 20,
     "metadata": {},
     "output_type": "execute_result"
    }
   ],
   "source": [
    "# tensor_mesh.shape\n",
    "X__train_tensor.shape"
   ]
  },
  {
   "cell_type": "code",
   "execution_count": 21,
   "metadata": {},
   "outputs": [
    {
     "data": {
      "text/plain": [
       "TensorShape([27968])"
      ]
     },
     "execution_count": 21,
     "metadata": {},
     "output_type": "execute_result"
    }
   ],
   "source": [
    "# target_tensor.shape\n",
    "y__train_tensor.shape"
   ]
  },
  {
   "cell_type": "code",
   "execution_count": 22,
   "metadata": {},
   "outputs": [
    {
     "data": {
      "text/plain": [
       "TensorShape([6992, 478, 2])"
      ]
     },
     "execution_count": 22,
     "metadata": {},
     "output_type": "execute_result"
    }
   ],
   "source": [
    "X__val_tensor.shape"
   ]
  },
  {
   "cell_type": "code",
   "execution_count": 23,
   "metadata": {},
   "outputs": [
    {
     "data": {
      "text/plain": [
       "TensorShape([6992])"
      ]
     },
     "execution_count": 23,
     "metadata": {},
     "output_type": "execute_result"
    }
   ],
   "source": [
    "y__val_tensor.shape"
   ]
  },
  {
   "cell_type": "code",
   "execution_count": 24,
   "metadata": {},
   "outputs": [],
   "source": [
    "n_out = 6  # Number of classes\n",
    "N = X__train_tensor.shape[-2]  # Number of nodes in the graphs\n",
    "F = X__train_tensor.shape[-1]  # Original feature dimensionality"
   ]
  },
  {
   "cell_type": "code",
   "execution_count": 25,
   "metadata": {},
   "outputs": [
    {
     "data": {
      "text/plain": [
       "(478, 2)"
      ]
     },
     "execution_count": 25,
     "metadata": {},
     "output_type": "execute_result"
    }
   ],
   "source": [
    "N, F"
   ]
  },
  {
   "cell_type": "code",
   "execution_count": 26,
   "metadata": {},
   "outputs": [],
   "source": [
    "# import the dropout layer\n",
    "from tensorflow.keras.layers import Dropout"
   ]
  },
  {
   "cell_type": "markdown",
   "metadata": {},
   "source": [
    "tanh\n",
    "signmoid snht\n",
    "relu\n",
    "leaky_relu\n",
    "elu\n",
    "celu\n",
    "selu\n",
    "softplus\n",
    "softshrink\n",
    "softsign\n",
    "tanhshrink\n",
    "prelu\n",
    "rrelu\n",
    "glu\n",
    "gelu\n",
    "hardshrink\n",
    "hardtanh\n",
    "logsigmoid"
   ]
  },
  {
   "cell_type": "markdown",
   "metadata": {},
   "source": []
  },
  {
   "cell_type": "code",
   "execution_count": 27,
   "metadata": {},
   "outputs": [],
   "source": [
    "adj = tf.sparse.from_dense(tf.convert_to_tensor(get_mediapipe_adjacency_matrix()))\n",
    "\n",
    "X_in = Input(shape=(N, F))\n",
    "\n",
    "graph_conv_1 = GINConv(32, activation=\"tanh\", kernel_regularizer=l2(l2_reg), use_bias=True)([X_in, adj])\n",
    "graph_conv_drop1 = Dropout(0.25)(graph_conv_1)\n",
    "graph_conv_2 = GINConv(32, activation=\"tanh\", kernel_regularizer=l2(l2_reg), use_bias=True)([graph_conv_drop1, adj])\n",
    "\n",
    "flatten = Flatten()(graph_conv_2)\n",
    "fc = Dense(512, activation=\"relu\")(flatten)\n",
    "fc = Dense(256, activation=\"mish\")(fc)\n",
    "fc = Dense(128, activation=\"relu\")(fc)\n",
    "output = Dense(n_out, activation=\"softmax\")(fc)"
   ]
  },
  {
   "cell_type": "code",
   "execution_count": 28,
   "metadata": {},
   "outputs": [],
   "source": [
    "# Build model\n",
    "model = Model(inputs=X_in, outputs=output)\n",
    "optimizer = Adam(learning_rate=learning_rate)\n",
    "model.compile(\n",
    "    optimizer=optimizer, loss=\"sparse_categorical_crossentropy\", metrics=[\"acc\"]\n",
    ")"
   ]
  },
  {
   "cell_type": "code",
   "execution_count": 36,
   "metadata": {},
   "outputs": [
    {
     "name": "stdout",
     "output_type": "stream",
     "text": [
      "Model: \"model\"\n",
      "_________________________________________________________________\n",
      " Layer (type)                Output Shape              Param #   \n",
      "=================================================================\n",
      " input_1 (InputLayer)        [(None, 478, 2)]          0         \n",
      "                                                                 \n",
      " gin_conv (GINConv)          (None, 478, 32)           97        \n",
      "                                                                 \n",
      " dropout (Dropout)           (None, 478, 32)           0         \n",
      "                                                                 \n",
      " gin_conv_1 (GINConv)        (None, 478, 32)           1057      \n",
      "                                                                 \n",
      " flatten (Flatten)           (None, 15296)             0         \n",
      "                                                                 \n",
      " dense (Dense)               (None, 512)               7832064   \n",
      "                                                                 \n",
      " dense_1 (Dense)             (None, 256)               131328    \n",
      "                                                                 \n",
      " dense_2 (Dense)             (None, 128)               32896     \n",
      "                                                                 \n",
      " dense_3 (Dense)             (None, 6)                 774       \n",
      "                                                                 \n",
      "=================================================================\n",
      "Total params: 7998216 (30.51 MB)\n",
      "Trainable params: 7998216 (30.51 MB)\n",
      "Non-trainable params: 0 (0.00 Byte)\n",
      "_________________________________________________________________\n"
     ]
    }
   ],
   "source": [
    "model.summary()"
   ]
  },
  {
   "cell_type": "code",
   "execution_count": 35,
   "metadata": {},
   "outputs": [
    {
     "data": {
      "image/png": "[encoded data removed]",
      "text/plain": [
       "<IPython.core.display.Image object>"
      ]
     },
     "execution_count": 35,
     "metadata": {},
     "output_type": "execute_result"
    }
   ],
   "source": [
    "from tensorflow.keras.utils import plot_model\n",
    "plot_model(model, to_file='model_plot.png', show_shapes=True, show_layer_names=True, show_layer_activations=True)"
   ]
  },
  {
   "cell_type": "code",
   "execution_count": 52,
   "metadata": {},
   "outputs": [
    {
     "name": "stdout",
     "output_type": "stream",
     "text": [
      "Epoch 1/25\n"
     ]
    },
    {
     "name": "stdout",
     "output_type": "stream",
     "text": [
      "873/873 [==============================] - 66s 74ms/step - loss: 1.5862 - acc: 0.4276 - val_loss: 1.3420 - val_acc: 0.4841\n",
      "Epoch 2/25\n",
      "873/873 [==============================] - 77s 88ms/step - loss: 1.3197 - acc: 0.4860 - val_loss: 1.2619 - val_acc: 0.5185\n",
      "Epoch 3/25\n",
      "873/873 [==============================] - 86s 98ms/step - loss: 1.2786 - acc: 0.5055 - val_loss: 1.2255 - val_acc: 0.5358\n",
      "Epoch 4/25\n",
      "873/873 [==============================] - 81s 92ms/step - loss: 1.2381 - acc: 0.5207 - val_loss: 1.2161 - val_acc: 0.5367\n",
      "Epoch 5/25\n",
      "873/873 [==============================] - 72s 82ms/step - loss: 1.2195 - acc: 0.5297 - val_loss: 1.1836 - val_acc: 0.5501\n",
      "Epoch 6/25\n",
      "873/873 [==============================] - 54s 62ms/step - loss: 1.1958 - acc: 0.5397 - val_loss: 1.1908 - val_acc: 0.5550\n",
      "Epoch 7/25\n",
      "873/873 [==============================] - 52s 59ms/step - loss: 1.1843 - acc: 0.5417 - val_loss: 1.1647 - val_acc: 0.5530\n",
      "Epoch 8/25\n",
      "873/873 [==============================] - 56s 64ms/step - loss: 1.1690 - acc: 0.5469 - val_loss: 1.1404 - val_acc: 0.5683\n",
      "Epoch 9/25\n",
      "873/873 [==============================] - 48s 55ms/step - loss: 1.1554 - acc: 0.5547 - val_loss: 1.1303 - val_acc: 0.5722\n",
      "Epoch 10/25\n",
      "873/873 [==============================] - 48s 55ms/step - loss: 1.1535 - acc: 0.5573 - val_loss: 1.1815 - val_acc: 0.5558\n",
      "Epoch 11/25\n",
      "873/873 [==============================] - 48s 55ms/step - loss: 1.1417 - acc: 0.5603 - val_loss: 1.1540 - val_acc: 0.5546\n",
      "Epoch 12/25\n",
      "873/873 [==============================] - 52s 60ms/step - loss: 1.1264 - acc: 0.5662 - val_loss: 1.1060 - val_acc: 0.5830\n",
      "Epoch 13/25\n",
      "873/873 [==============================] - 58s 66ms/step - loss: 1.1200 - acc: 0.5703 - val_loss: 1.0721 - val_acc: 0.5966\n",
      "Epoch 14/25\n",
      "873/873 [==============================] - 71s 81ms/step - loss: 1.1181 - acc: 0.5688 - val_loss: 1.1072 - val_acc: 0.5753\n",
      "Epoch 15/25\n",
      "873/873 [==============================] - 48s 55ms/step - loss: 1.1114 - acc: 0.5731 - val_loss: 1.0939 - val_acc: 0.5820\n",
      "Epoch 16/25\n",
      "873/873 [==============================] - 48s 55ms/step - loss: 1.1000 - acc: 0.5726 - val_loss: 1.1200 - val_acc: 0.5806\n",
      "Epoch 17/25\n",
      "873/873 [==============================] - 48s 55ms/step - loss: 1.0923 - acc: 0.5799 - val_loss: 1.0925 - val_acc: 0.5868\n",
      "Epoch 18/25\n",
      "873/873 [==============================] - 48s 55ms/step - loss: 1.0847 - acc: 0.5815 - val_loss: 1.0763 - val_acc: 0.5961\n",
      "Epoch 19/25\n",
      "873/873 [==============================] - 48s 55ms/step - loss: 1.0840 - acc: 0.5812 - val_loss: 1.0943 - val_acc: 0.5882\n",
      "Epoch 20/25\n",
      "873/873 [==============================] - 48s 55ms/step - loss: 1.0788 - acc: 0.5839 - val_loss: 1.1036 - val_acc: 0.5808\n",
      "Epoch 21/25\n",
      "873/873 [==============================] - 48s 55ms/step - loss: 1.0854 - acc: 0.5846 - val_loss: 1.0802 - val_acc: 0.5879\n",
      "Epoch 22/25\n",
      "873/873 [==============================] - 48s 55ms/step - loss: 1.0768 - acc: 0.5828 - val_loss: 1.1583 - val_acc: 0.5677\n",
      "Epoch 23/25\n",
      "873/873 [==============================] - 52s 59ms/step - loss: 1.0604 - acc: 0.5915 - val_loss: 1.0614 - val_acc: 0.5968\n",
      "Epoch 24/25\n",
      "873/873 [==============================] - 52s 59ms/step - loss: 1.0591 - acc: 0.5921 - val_loss: 1.0744 - val_acc: 0.5911\n",
      "Epoch 25/25\n",
      "873/873 [==============================] - 48s 55ms/step - loss: 1.0630 - acc: 0.5880 - val_loss: 1.0480 - val_acc: 0.6022\n"
     ]
    }
   ],
   "source": [
    "# o tensor_mesh é um tensor de dimensão 3\n",
    "# o sparse_matrix é um tensor de dimensão 2\n",
    "# o target_list é um tensor de dimensão 1\n",
    "\n",
    "# Train model\n",
    "history = model.fit(\n",
    "    X__train_tensor,\n",
    "    y__train_tensor,\n",
    "    batch_size=batch_size,\n",
    "    validation_data=(X__val_tensor, y__val_tensor),\n",
    "    epochs=epochs*5,\n",
    "    callbacks=[EarlyStopping(patience=es_patience)],\n",
    ")"
   ]
  },
  {
   "cell_type": "code",
   "execution_count": 62,
   "metadata": {},
   "outputs": [
    {
     "data": {
      "image/png": "[encoded data removed]",
      "text/plain": [
       "<Figure size 640x480 with 1 Axes>"
      ]
     },
     "metadata": {},
     "output_type": "display_data"
    },
    {
     "data": {
      "image/png": "[encoded data removed]",
      "text/plain": [
       "<Figure size 640x480 with 1 Axes>"
      ]
     },
     "metadata": {},
     "output_type": "display_data"
    }
   ],
   "source": [
    "# ploting the training and validation loss\n",
    "\n",
    "import matplotlib.pyplot as plt\n",
    "\n",
    "plt.plot(history.history[\"loss\"], label=\"train\")\n",
    "plt.plot(history.history[\"val_loss\"], label=\"val\")\n",
    "plt.ylabel(\"Loss\")\n",
    "plt.xlabel(\"Epoch\")\n",
    "plt.title(\"Loss\")\n",
    "plt.legend()\n",
    "plt.savefig('loss.png', dpi=300)\n",
    "plt.show()\n",
    "\n",
    "plt.plot(history.history[\"acc\"], label=\"train\")\n",
    "plt.plot(history.history[\"val_acc\"], label=\"val\")\n",
    "plt.ylabel(\"Accuracy\")\n",
    "plt.xlabel(\"Epoch\")\n",
    "plt.title(\"Accuracy\")\n",
    "plt.legend()\n",
    "# save with 300 dpi\n",
    "plt.savefig('loss_acc.png', dpi=300)\n",
    "plt.show()"
   ]
  },
  {
   "cell_type": "markdown",
   "metadata": {},
   "source": [
    "Como o dempenho caiu muita rápido através das epochs, pode ser que o modelo esteja com um overfitting muito grande."
   ]
  },
  {
   "cell_type": "code",
   "execution_count": 61,
   "metadata": {},
   "outputs": [
    {
     "name": "stdout",
     "output_type": "stream",
     "text": [
      "219/219 [==============================] - 2s 10ms/step\n"
     ]
    },
    {
     "data": {
      "image/png": "[encoded data removed]",
      "text/plain": [
       "<Figure size 640x480 with 1 Axes>"
      ]
     },
     "metadata": {},
     "output_type": "display_data"
    }
   ],
   "source": [
    "# confusion matrix\n",
    "from sklearn.metrics import confusion_matrix\n",
    "import seaborn as sns\n",
    "import matplotlib.pyplot as plt\n",
    "\n",
    "y_pred = model.predict(X__val_tensor)\n",
    "y_pred = np.argmax(y_pred, axis=-1)\n",
    "y_true = y__val_tensor\n",
    "\n",
    "mat = confusion_matrix(y_true, y_pred)\n",
    "sns.heatmap(mat, square=True, annot=True, fmt=\"d\", cbar=False)\n",
    "plt.ylabel(\"true label\")\n",
    "plt.xlabel(\"predicted label\")\n",
    "plt.savefig('confusion_matrix.png', dpi=300)\n",
    "plt.show()"
   ]
  },
  {
   "cell_type": "markdown",
   "metadata": {},
   "source": [
    "Ta.... ta uma bosta"
   ]
  },
  {
   "cell_type": "markdown",
   "metadata": {},
   "source": []
  }
 ],
 "metadata": {
  "kernelspec": {
   "display_name": "Python 3",
   "language": "python",
   "name": "python3"
  },
  "language_info": {
   "codemirror_mode": {
    "name": "ipython",
    "version": 3
   },
   "file_extension": ".py",
   "mimetype": "text/x-python",
   "name": "python",
   "nbconvert_exporter": "python",
   "pygments_lexer": "ipython3",
   "version": "3.10.0"
  }
 },
 "nbformat": 4,
 "nbformat_minor": 2
}
